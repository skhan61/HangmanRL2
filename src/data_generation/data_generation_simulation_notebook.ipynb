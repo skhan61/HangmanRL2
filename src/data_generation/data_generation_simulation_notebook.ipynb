{
 "cells": [
  {
   "cell_type": "code",
   "execution_count": 1,
   "metadata": {},
   "outputs": [
    {
     "name": "stdout",
     "output_type": "stream",
     "text": [
      "Project Root Added to sys.path: /media/sayem/510B93E12554BBD1/Hangman\n"
     ]
    }
   ],
   "source": [
    "# from game import *\n",
    "import sys\n",
    "from pathlib import Path\n",
    "import shutil\n",
    "import pandas as pd\n",
    "import random\n",
    "\n",
    "import sys\n",
    "import os\n",
    "\n",
    "# Set the seed for Python's random module\n",
    "random.seed(42)  # You can choose any number; 42 is just an example\n",
    "\n",
    "# Assuming your notebook is directly under some subdirectory like 'notebooks' inside the 'Hangman/src' directory\n",
    "# You need to navigate two levels up to reach the root that includes 'src'\n",
    "project_root = os.path.dirname(os.path.dirname(os.getcwd()))  # Go up two levels\n",
    "sys.path.append(project_root)\n",
    "\n",
    "print(\"Project Root Added to sys.path:\", project_root)\n",
    "\n",
    "import os\n",
    "os.chdir('/media/sayem/510B93E12554BBD1/Hangman/src/')"
   ]
  },
  {
   "cell_type": "code",
   "execution_count": 2,
   "metadata": {},
   "outputs": [],
   "source": [
    "# import numpy as np\n",
    "# np.random.randint(0, 2, size=26)"
   ]
  },
  {
   "cell_type": "code",
   "execution_count": 3,
   "metadata": {},
   "outputs": [],
   "source": [
    "from src.utils import read_word_list\n",
    "\n",
    "corpa_path = '/media/sayem/510B93E12554BBD1/Hangman/data/words_250000_train.txt'\n",
    "corpus = read_word_list(corpa_path, num_samples=250_000)"
   ]
  },
  {
   "cell_type": "code",
   "execution_count": 4,
   "metadata": {},
   "outputs": [],
   "source": [
    "from src.data_generation.data_generation import simulated_guess_function\n",
    "from src.data_generation.strategy import HangmanFreqSolver"
   ]
  },
  {
   "cell_type": "code",
   "execution_count": 5,
   "metadata": {},
   "outputs": [],
   "source": [
    "# solver = HangmanFreqSolver(corpus)\n",
    "# word = 'zgy'\n",
    "# masked_word='_' * len(word)\n",
    "# gusssed_letters = []\n",
    "# simulated_guess_function(word, masked_word, solver, gusssed_letters)"
   ]
  },
  {
   "cell_type": "code",
   "execution_count": 6,
   "metadata": {},
   "outputs": [
    {
     "name": "stdout",
     "output_type": "stream",
     "text": [
      "Words in Category 1: ['zzz', 'xxx', 'bbb', 'ddd', 'aaa', 'kkk', 'sss', 'ppp', 'aaaaaa', 'mmmm', 'uu', 'mm', 'cc', 'hh', 'yy', 'gg', 'ee', 'xx', 'ww', 'jj', 'rr', 'oo', 'zz', 'bb', 'e', 'd', 'g', 'p', 'c', 'j', 'h', 's', 'o', 'm', 'i', 'r', 'y', 'w', 'f', 'v', 'k']\n"
     ]
    }
   ],
   "source": [
    "from data_generation.dataset_analysis import *\n",
    "from src.utils import read_word_list\n",
    "\n",
    "classified_words = classify_words_by_unique_letter_count(corpus)\n",
    "\n",
    "# Example of accessing words from category 1\n",
    "category_1_words = classified_words[1]\n",
    "print(\"Words in Category 1:\", category_1_words)"
   ]
  },
  {
   "cell_type": "code",
   "execution_count": 20,
   "metadata": {},
   "outputs": [],
   "source": [
    "classification_by_word_len = categorize_words_by_length(corpus)"
   ]
  },
  {
   "cell_type": "code",
   "execution_count": 24,
   "metadata": {},
   "outputs": [
    {
     "data": {
      "text/plain": [
       "['e',\n",
       " 'd',\n",
       " 'g',\n",
       " 'p',\n",
       " 'c',\n",
       " 'j',\n",
       " 'h',\n",
       " 's',\n",
       " 'o',\n",
       " 'm',\n",
       " 'i',\n",
       " 'r',\n",
       " 'y',\n",
       " 'w',\n",
       " 'f',\n",
       " 'v',\n",
       " 'k']"
      ]
     },
     "execution_count": 24,
     "metadata": {},
     "output_type": "execute_result"
    }
   ],
   "source": [
    "classification_by_word_len[1]"
   ]
  },
  {
   "cell_type": "code",
   "execution_count": 18,
   "metadata": {},
   "outputs": [
    {
     "name": "stdout",
     "output_type": "stream",
     "text": [
      "Words in Category 1: ['suburb', 'tenets', 'wedbed', 'hippia', 'riccia', 'misaim', 'tatian', 'ryukyu', 'hooded', 'deepen', 'cceres', 'masham', 'ferren', 'stiffs', 'tasset', 'stoats', 'kinhin', 'treget', 'melees', 'durdum', 'swedes', 'tacana', 'souush', 'oballa', 'biblic', 'sisith', 'nalani', 'jimmie', 'wwmccs', 'batete', 'toluol', 'griege', 'mccann', 'sinism', 'camoca', 'cinene', 'daddle', 'finnic', 'cocama', 'adread', 'iniomi', 'maxima', 'conjon', 'goggin', 'sirree', 'sasabe', 'nintoo', 'terrel', 'comico', 'sorrow', 'veneer', 'anabas', 'acerae', 'etwees', 'armada', 'allday', 'artaba', 'pirrie', 'suisei', 'weippe', 'demele', 'staffa', 'macram', 'popele', 'dillie', 'mccall', 'fetted', 'aupaka', 'garage', 'melded', 'geleem', 'steens', 'fuffit', 'laical', 'ouroub', 'stooth', 'ellery', 'gloggs', 'soogee', 'reeved', 'nammad', 'yakmak', 'otello', 'wheeze', 'emissi', 'renell', 'jimjam', 'aroras', 'ethene', 'lshell', 'bedell', 'retier', 'arcaro', 'nahani', 'hetter', 'wahahe', 'jegger', 'egress', 'lettie', 'reeves', 'keefer', 'udelle', 'bogong', 'deanna', 'totora', 'pyrryl', 'tuttle', 'eelbob', 'reenge', 'tended', 'silici', 'voivod', 'pataka', 'acraea', 'inulin', 'bututs', 'lezley', 'egence', 'lubell', 'hassan', 'eldred', 'janata', 'acadia', 'totten', 'gelene', 'baldad', 'almada', 'ectene', 'lianna', 'hamath', 'simmie', 'raffia', 'paella', 'nyanja', 'cachua', 'pegeen', 'lalled', 'beeves', 'zahara', 'coccin', 'akamai', 'cutout', 'endere', 'sherer', 'zincic', 'kanoon', 'doomed', 'acamar', 'magmas', 'brnaba', 'ollock', 'coraco', 'beatee', 'spoors', 'morros', 'oleoyl', 'braata', 'lyssas', 'joelle', 'easers', 'sepsis', 'coruco', 'seemed', 'gidgee', 'didine', 'zacata', 'bataan', 'nettle', 'twists', 'arawak', 'hainan', 'ephete', 'feeler', 'attack', 'wayaka', 'ennuye', 'exeter', 'arroba', 'eccles', 'acinic', 'vendee', 'tweets', 'teases', 'blobby', 'alacha', 'shotts', 'pipits', 'tweese', 'jennet', 'geegaw', 'snells', 'arrack', 'nidana', 'yettie', 'apiaca', 'galata', 'potato', 'agapai', 'hushes', 'jymmye', 'tervee', 'phonon', 'kamala', 'helene', 'beller', 'zapara', 'truitt', 'gorgon', 'naraka', 'euippe', 'salols', 'fossor', 'eggers', 'summas', 'iinden', 'baraka', 'tritor', 'quippu', 'connor', 'ketene', 'neille', 'dudden', 'hammal', 'alaria', 'camala', 'clitic', 'cancun', 'yengee', 'needbe', 'codded', 'smells', 'sperse', 'hemmel', 'abakas', 'letten', 'missie', 'noggin', 'samala', 'onlook', 'skulls', 'alaska', 'armary', 'patart', 'bamban', 'katana', 'addita', 'gollop', 'agalma', 'helenn', 'rerope', 'angina', 'pattoo', 'argall', 'sodded', 'nerver', 'solons', 'claval', 'novene', 'canica', 'nonfan', 'tarrah', 'avella', 'biffin', 'ballan', 'osmols', 'bribee', 'diodia', 'nitwit', 'guttus', 'odored', 'babita', 'khalal', 'inline', 'estats', 'yazata', 'vidkid', 'calica', 'tippet', 'pinion', 'ahchoo', 'tainan', 'assate', 'coneen', 'irisin', 'carnac', 'silvis', 'enseel', 'kayaks', 'etters', 'tattle', 'tining', 'tatter', 'saccha', 'merete', 'preyer', 'rubbra', 'eirene', 'hamrah', 'thetch', 'cursus', 'asians', 'motteo', 'vltava', 'aarika', 'affrap', 'wedder', 'reeked', 'habana', 'houtou', 'raeann', 'heehaw', 'jeeped', 'ananke', 'kenwee', 'stills', 'devide', 'fillin', 'rodded', 'manawa', 'renone', 'tutees', 'osiris', 'roucou', 'rutter', 'hessel', 'reearn', 'kanara', 'diasia', 'madams', 'ripper', 'parrah', 'nidudi', 'intill', 'kadoka', 'wended', 'barrat', 'hircic', 'iodoso', 'nakada', 'aranga', 'killie', 'taotai', 'burrer', 'raggee', 'spense', 'achech', 'strass', 'pannag', 'tanoan', 'toccoa', 'kourou', 'common', 'yahata', 'squiss', 'hennie', 'sansen', 'amalia', 'yelled', 'apopka', 'watala', 'wewela', 'muggur', 'anodon', 'pennie', 'blatta', 'ankara', 'azelea', 'keerie', 'enning', 'akaroa', 'linene', 'teddie', 'oddlot', 'jejune', 'heraea', 'feezed', 'tweeze', 'ardass', 'haiari', 'arriba', 'tested', 'vining', 'manuma', 'pomolo', 'decess', 'coccyx', 'dossed', 'sarraf', 'thatll', 'serges', 'karroo', 'tanaka', 'carcas', 'ridder', 'series', 'bravar', 'linnie', 'blolly', 'secesh', 'ogdoad', 'mesmer', 'linpin', 'warram', 'gesell', 'revery', 'fizgig', 'weever', 'delude', 'manara', 'tidied', 'nagano', 'pettit', 'anagua', 'regear', 'yferre', 'teteak', 'accoll', 'reader', 'beemen', 'messrs', 'sensus', 'faffle', 'ferfet', 'weeper', 'hannon', 'wilily', 'eatall', 'vitita', 'beezer', 'zaffar', 'nadaha', 'sippio', 'lilias', 'hoolee', 'norene', 'andean', 'ensete', 'keddie', 'deemer', 'acerra', 'effude', 'mammin', 'guttur', 'habbub', 'seisms', 'jarrad', 'arrage', 'allbee', 'hooton', 'retene', 'doocot', 'palolo', 'milium', 'rooses', 'dauded', 'berede', 'sended', 'tewter', 'landan', 'navada', 'ballat', 'guadua', 'snapps', 'jaddan', 'galang', 'arrace', 'lalita', 'emerse', 'nataka', 'kansan', 'sennet', 'argala', 'popple', 'spissy', 'teenty', 'koffka', 'chevee', 'acmaea', 'yeanay', 'yetter', 'bokoto', 'kaolak', 'queued', 'adelle', 'aymara', 'lefsel', 'gemses', 'geneve', 'nathan', 'helzel', 'tazzas', 'sleets', 'kondon', 'illipe', 'gavall', 'alulae', 'oozoid', 'kenned', 'arette', 'kirkuk', 'peises', 'csmaca', 'pandan', 'macuca', 'apayao', 'wakiki', 'ferret', 'ammiee', 'shamma', 'messet', 'yamaha', 'baases', 'mannar', 'carcer', 'pampas', 'saraad', 'states', 'mammet', 'hoblob', 'pallah', 'thatch', 'amaras', 'nagman', 'jessey', 'missus', 'bailli', 'tavast', 'scoffs', 'mccomb', 'cattan', 'terner', 'heydey', 'yepely', 'rerate', 'suerre', 'speiss', 'assart', 'bittie', 'anneal', 'puttee', 'arlana', 'sibbie', 'gepeoo', 'msgmgt', 'cotoxo', 'wistit', 'achaea', 'achsah', 'canaba', 'nadabb', 'papacy', 'mormon', 'rewear', 'lexeme', 'propos', 'dipped', 'evanne', 'tappet', 'ceases', 'oneegg', 'shahee', 'camara', 'cecyle', 'kiddie', 'suedes', 'madame', 'rebbes', 'recess', 'cixiid', 'haboob', 'kommos', 'acalia', 'heeley', 'mercer', 'didier', 'aphtha', 'anshan', 'taffia', 'arroya', 'nanhai', 'kookie', 'huddup', 'mettle', 'babuma', 'gooses', 'cassia', 'ahuaca', 'reseen', 'redrew', 'kokoda', 'jujube', 'denten', 'sascha', 'jairia', 'seised', 'sheeve', 'kessel', 'undull', 'hedveh', 'kabala', 'alagao', 'tecate', 'censes', 'ailina', 'millis', 'bacach', 'totara', 'keened', 'ofdoor', 'pipple', 'puttoo', 'swoose', 'searer', 'orozco', 'fezzes', 'derned', 'mahmal', 'reverb', 'beseem', 'korero', 'vernen', 'bumbee', 'arauan', 'baraga', 'jammal', 'pattee', 'monton', 'oselle', 'atthia', 'afshah', 'ennice', 'selves', 'berret', 'tertry', 'arcata', 'arrame', 'labral', 'roller', 'rooser', 'alidad', 'arzava', 'aduana', 'deeper', 'ferrel', 'beleve', 'denude', 'karree', 'redeem', 'gootee', 'havana', 'miasms', 'azazel', 'riever', 'mellie', 'alcali', 'barber', 'agamas', 'oxfoot', 'gigget', 'moggio', 'kellie', 'apollo', 'cussos', 'retore', 'azaria', 'yadava', 'kippie', 'hulloo', 'rondon', 'nessus', 'torsos', 'mccool', 'lilium', 'wecche', 'doodle', 'mallum', 'hewett', 'inking', 'obeyeo', 'gnesen', 'laelia', 'talara', 'mammer', 'aperea', 'flanna', 'werner', 'eelery', 'arrant', 'regrew', 'lucule', 'inanga', 'pakawa', 'tastes', 'eadass', 'zeekoe', 'chacra', 'renter', 'annale', 'berner', 'gargan', 'lippie', 'chucho', 'geiger', 'astate', 'bannat', 'sekere', 'sawbwa', 'nanook', 'disini', 'queuer', 'bimini', 'eugene', 'sigils', 'keelie', 'cheese', 'krever', 'albata', 'deirid', 'misdid', 'gustus', 'persse', 'totter', 'matara', 'gingiv', 'donoho', 'challa', 'geezer', 'tatbeb', 'luella', 'george', 'philip', 'hamata', 'aurata', 'priori', 'kickee', 'gagnon', 'canada', 'peppin', 'premer', 'sahras', 'rether', 'rahdar', 'pipile', 'pappox', 'hassar', 'aholah', 'kamrar', 'teheed', 'redyed', 'kalila', 'aguara', 'sheree', 'noelle', 'needle', 'defend', 'chahar', 'bassos', 'gigged', 'kellen', 'cywydd', 'wadded', 'gammas', 'megerg', 'aythya', 'savaii', 'arafat', 'luller', 'passes', 'infill', 'emsmus', 'isaian', 'reuses', 'amadas', 'biggie', 'jewess', 'ballad', 'dosido', 'noggen', 'steele', 'kosovo', 'kowtko', 'recrew', 'output', 'spills', 'rehire', 'freres', 'kavass', 'unbung', 'stubbs', 'naruna', 'sverre', 'kinnon', 'derrek', 'favata', 'arthra', 'anarya', 'kettle', 'semmet', 'member', 'keener', 'jijiga', 'bessel', 'aglaia', 'komtok', 'lengel', 'dodoma', 'lilius', 'gagger', 'ibises', 'hurroo', 'kamika', 'fulfil', 'jetter', 'gelled', 'kansas', 'abbacy', 'enzone', 'nonmen', 'tsotsi', 'lyerly', 'groggy', 'earner', 'abilla', 'lesser', 'rebred', 'allard', 'nanete', 'spoofs', 'alyssa', 'nadeen', 'kettie', 'cajava', 'causus', 'marana', 'indign', 'usuals', 'grappa', 'dredge', 'losels', 'nelsen', 'releve', 'swoosh', 'comodo', 'mayday', 'starts', 'filial', 'tillet', 'laccol', 'noreen', 'thocht', 'emmery', 'titter', 'menken', 'needer', 'hallam', 'mormyr', 'pajama', 'roeser', 'bemeet', 'etuvee', 'cesser', 'caduca', 'eluded', 'zavala', 'farrah', 'sweets', 'fennec', 'mussuk', 'labana', 'seines', 'mambas', 'sabbat', 'crooch', 'diacid', 'illite', 'sewers', 'nicene', 'hamlah', 'gygaea', 'termer', 'sudses', 'eroded', 'torgot', 'allsea', 'oniony', 'beefed', 'commos', 'sicsac', 'caback', 'jataka', 'teethy', 'donjon', 'meered', 'seethe', 'tassah', 'legged', 'amebae', 'kidded', 'anabia', 'gabbai', 'tatman', 'glosso', 'aucuba', 'succub', 'balada', 'barbre', 'illess', 'keller', 'gestes', 'rester', 'adhamh', 'maraca', 'rooker', 'reuter', 'tennes', 'sisson', 'amarna', 'jereed', 'struts', 'caraco', 'velvet', 'luzula', 'bonnne', 'tooart', 'gemmel', 'terrae', 'charac', 'grotto', 'aletta', 'autota', 'nandin', 'daggar', 'tenses', 'menses', 'begged', 'nannie', 'marwar', 'nonman', 'panman', 'basses', 'reroof', 'singin', 'ottawa', 'mangan', 'fearer', 'popply', 'lezzie', 'revell', 'skeens', 'suisse', 'gorger', 'lendee', 'seccos', 'popess', 'jewell', 'bagobo', 'glagah', 'alicia', 'eesome', 'willin', 'cascan', 'beneme', 'perren', 'puddee', 'bigwig', 'vardar', 'borrow', 'degree', 'pulpal', 'hebete', 'pipier', 'makkah', 'hennes', 'sashes', 'feeney', 'namara', 'appast', 'canara', 'niminy', 'snoops', 'bieber', 'rimier', 'hillie', 'kukupa', 'parpal', 'sedged', 'mazman', 'nepmen', 'lemmie', 'mnemon', 'bonton', 'kaibab', 'kennan', 'leglen', 'biblio', 'yacata', 'queeve', 'semmel', 'kaffia', 'nocona', 'leslie', 'wigwag', 'gessen', 'sebbie', 'tertii', 'gemmae', 'stadda', 'heidie', 'jamima', 'lenten', 'blesse', 'totowa', 'yakala', 'imelle', 'sheens', 'beefer', 'bulbus', 'tebeth', 'minion', 'vivica', 'nahuan', 'niemen', 'menell', 'botonn', 'gerara', 'tooold', 'heeler', 'giglio', 'tarawa', 'trilit', 'breuer', 'heppen', 'burrus', 'derrid', 'daedal', 'dalaga', 'petite', 'wallow', 'kreese', 'restes', 'teemed', 'ragbag', 'baluba', 'iritic', 'femcee', 'pommee', 'didric', 'vivian', 'atterr', 'eiffel', 'canjac', 'rooter', 'parana', 'koetke', 'jalapa', 'rozzer', 'evaded', 'evetta', 'euneus', 'guttee', 'felled', 'segged', 'aljama', 'elenge', 'adaurd', 'madded', 'feller', 'testae', 'allvar', 'sopors', 'kenner', 'eddana', 'bassus', 'hazara', 'pipped', 'corcir', 'tootle', 'tiptop', 'pahala', 'baboon', 'tercet', 'amulla', 'keeler', 'oolong', 'saynay', 'fesels', 'avilla', 'topepo', 'griggs', 'emerge', 'kokama', 'piazzi', 'belles', 'greige', 'toffee', 'pollee', 'calama', 'gunong', 'callan', 'lujula', 'affair', 'souses', 'jojoba', 'penned', 'reaver', 'bremer', 'snools', 'kappas', 'gianna', 'biosis', 'fluffy', 'shills', 'tomtoe', 'alanah', 'picric', 'antaea', 'bugbee', 'adaiha', 'acaena', 'indene', 'dorobo', 'saccus', 'steeps', 'snoose', 'rugger', 'isaacs', 'reseed', 'shesha', 'baubee', 'sheene', 'jeanna', 'acacin', 'rubdub', 'thetes', 'bebite', 'excess', 'lavada', 'scatts', 'refers', 'lebbek', 'annary', 'jacana', 'ottava', 'tetzel', 'keenan', 'rowoff', 'lollup', 'wurrup', 'critic', 'beleed', 'jillie', 'essive', 'sestos', 'sneers', 'papaws', 'rummer', 'wedfee', 'tekken', 'estell', 'gavage', 'ilicin', 'indian', 'dorado', 'nemean', 'retell', 'shooks', 'stints', 'nanine', 'disoss', 'tatary', 'rizzer', 'naging', 'keckle', 'duende', 'wessex', 'stoops', 'akasha', 'barbee', 'ookala', 'dented', 'cortot', 'saugus', 'dallas', 'coboss', 'ramman', 'mainan', 'gibing', 'emmove', 'araire', 'coffee', 'sewell', 'ragger', 'thoght', 'tannen', 'devove', 'mimics', 'oddson', 'pollok', 'staffs', 'jonson', 'jamaal', 'gigunu', 'gallas', 'kolkoz', 'vedder', 'testis', 'oilily', 'halaka', 'hammad', 'tooele', 'deidre', 'tootsy', 'nooned', 'amurru', 'itajai', 'oclock', 'upprop', 'museum', 'nullum', 'uneven', 'deaned', 'irrite', 'vetter', 'bahada', 'kinins', 'unrung', 'arissa', 'outhut', 'clinic', 'appian', 'sushis', 'revert', 'vignin', 'skunks', 'reiser', 'bebled', 'caball', 'detest', 'heenan', 'currer', 'denied', 'wittie', 'yippie', 'nsdsso', 'argyra', 'dreher', 'coello', 'ludell', 'marala', 'euouae', 'revete', 'notout', 'masses', 'wallah', 'atteal', 'unpuff', 'merrel', 'caveae', 'hisses', 'goanna', 'seeder', 'taxwax', 'nanako', 'steeds', 'loyall', 'swells', 'maunna', 'exuded', 'gamgia', 'tillie', 'rebear', 'eposes', 'pennet', 'gorgio', 'muktuk', 'annora', 'epigee', 'paxwax', 'vennel', 'balolo', 'errite', 'doddie', 'cyclic', 'sorose', 'bendee', 'iliahi', 'dimmed', 'bosons', 'veggie', 'setose', 'minima', 'sprees', 'oconto', 'wonnot', 'lookee', 'gulgee', 'allina', 'dabbed', 'ezarra', 'puppis', 'creche', 'popper', 'gigolo', 'amtman', 'feuded', 'seeley', 'snoods', 'pegged', 'kecked', 'welled', 'annaly', 'peggle', 'suttee', 'aparai', 'steres', 'warran', 'buffum', 'oaxaca', 'jennie', 'mittie', 'swoons', 'reshes', 'deesis', 'emeute', 'estele', 'coonan', 'jestee', 'anetta', 'dagaba', 'neednt', 'caract', 'nallah', 'billie', 'attent', 'anotta', 'giotto', 'titien', 'aaliis', 'cootch', 'levees', 'kousso', 'wotton', 'thanan', 'bilbie', 'homoio', 'nevell', 'gilgal', 'matman', 'weeted', 'gannon', 'greyer', 'yahiya', 'redroe', 'fattal', 'decide', 'ennead', 'kotuku', 'poppas', 'evener', 'warrau', 'loella', 'selene', 'gerres', 'defied', 'ingang', 'nolana', 'troppo', 'rerobe', 'ixiama', 'sotols', 'sahara', 'verier', 'sennas', 'fidfad', 'cledde', 'evened', 'sleeve', 'puppet', 'retrue', 'herded', 'betted', 'meurer', 'sevens', 'dillis', 'hubbob', 'ambala', 'ahuula', 'aneale', 'heddle', 'aftaba', 'cacaos', 'jessen', 'erfert', 'mommet', 'kizzee', 'pallua', 'career', 'kinnie', 'passee', 'robber', 'webbed', 'bibber', 'keffel', 'assear', 'ungull', 'lessen', 'bobbin', 'peened', 'ladyly', 'lienee', 'alloil', 'innuit', 'lamell', 'schuss', 'keeves', 'graeae', 'koorka', 'segues', 'mandan', 'cannon', 'edmead', 'memnon', 'octect', 'missit', 'petter', 'addoom', 'kokopu', 'dioxid', 'arrand', 'illium', 'screes', 'daffed', 'pallas', 'temene', 'antara', 'verlee', 'rodder', 'serles', 'ruffer', 'pannam', 'joette', 'giggle', 'beboss', 'deuced', 'suppos', 'lilith', 'bautta', 'musses', 'retest', 'nissan', 'hopoff', 'papuan', 'visive', 'sialis', 'balaam', 'encell', 'tiptap', 'status', 'seeker', 'dammed', 'abyssa', 'toasts', 'duffau', 'dogged', 'abacas', 'boobed', 'refeel', 'bubber', 'finnip', 'femmes', 'miming', 'callas', 'settle', 'hemmed', 'laggar', 'carree', 'dewees', 'stases', 'oxeote', 'multum', 'anahao', 'cyeses', 'bosson', 'summut', 'mennon', 'kuklux', 'cissus', 'nadean', 'rattan', 'tosses', 'celene', 'rewore', 'bassia', 'orondo', 'deride', 'chamma', 'annfwn', 'smiris', 'sturts', 'headed', 'bagass', 'hurrah', 'injoin', 'assaut', 'gaggle', 'gadaea', 'tooted', 'etoffe', 'statis', 'assise', 'teathe', 'barrer', 'lenses', 'cabala', 'cocuyo', 'doolee', 'kennie', 'rognon', 'bresee', 'sisile', 'kepped', 'reffed', 'meeten', 'trotol', 'rudder', 'attars', 'lassos', 'zigzag', 'spools', 'dunned', 'zennie', 'kunlun', 'plossl', 'popjoy', 'sokoki', 'geddes', 'sheass', 'geikie', 'wessel', 'jilolo', 'mummed', 'hettie', 'miosis', 'ananym', 'vestee', 'isurus', 'usques', 'nixing', 'torpor', 'follow', 'hebbel', 'oppose', 'vinnie', 'jessed', 'sunups', 'addams', 'aswash', 'mesnes', 'envine', 'fifish', 'rearii', 'elsass', 'aeetes', 'balata', 'labara', 'spells', 'belili', 'pannon', 'tammar', 'rennin', 'nadaba', 'sirius', 'axilla', 'mendee', 'sirois', 'budded', 'pallia', 'molopo', 'saggar', 'warsaw', 'papula', 'bamboo', 'reaper', 'zoosis', 'tenant', 'meggie', 'aparri', 'tiffin', 'erroll', 'alpaca', 'asosan', 'bienne', 'samosa', 'abesse', 'herren', 'weepie', 'levels', 'kapaau', 'mammey', 'gilgie', 'hibbin', 'belled', 'neddie', 'opioid', 'enerve', 'mallia', 'bezazz', 'wheyey', 'kemppe', 'enbibe', 'feirie', 'beseen', 'agatha', 'hookah', 'adelea', 'wagang', 'minnie', 'merger', 'peeved', 'arenae', 'gefell', 'salaam', 'revive', 'gagate', 'boneen', 'allene', 'speers', 'sialia', 'saitis', 'arella', 'paleae', 'fannon', 'esters', 'resets', 'bleeze', 'semens', 'astays', 'espece', 'casava', 'langan', 'lennie', 'pokomo', 'bobbed', 'myrrhy', 'sebree', 'seeped', 'konini', 'bosses', 'unhull', 'lisles', 'heinie', 'arrays', 'alisia', 'osgood', 'unsnug', 'usurer', 'lullay', 'boorer', 'vakass', 'spoons', 'viridi', 'saigas', 'emmies', 'lowell', 'zizith', 'minnis', 'asarta', 'akazga', 'dimiss', 'access', 'looses', 'shansa', 'grosso', 'laural', 'mellen', 'egegik', 'bennes', 'secede', 'sneesh', 'icicle', 'nonane', 'topato', 'evolve', 'neelon', 'meddle', 'dagged', 'nahama', 'quagga', 'haussa', 'sstate', 'fenmen', 'hekker', 'intuit', 'bealle', 'relier', 'leeser', 'dogdom', 'joappa', 'alclad', 'obeded', 'lilyfy', 'rambam', 'storrs', 'leered', 'attain', 'karrer', 'ciscos', 'toston', 'akhaia', 'cabana', 'syllis', 'wedged', 'italia', 'bellew', 'kabiki', 'guggle', 'ricrac', 'scoloc', 'domoid', 'balawa', 'tintie', 'tarrer', 'expede', 'egests', 'aralia', 'eisell', 'cucurb', 'swoops', 'isidia', 'shoots', 'halloa', 'anhang', 'sirees', 'pacaya', 'damqam', 'hamzah', 'aptate', 'babool', 'galago', 'offutt', 'rotors', 'yannam', 'poteet', 'camata', 'lobell', 'bubble', 'pitpat', 'spasms', 'wisses', 'pipper', 'allays', 'nearer', 'cossas', 'doffed', 'emblem', 'puerer', 'mahala', 'asmara', 'hethen', 'dieses', 'gangsa', 'arcana', 'eelbed', 'hodosh', 'chatta', 'popped', 'blabby', 'pelles', 'dosses', 'kookri', 'unsunk', 'kanona', 'maitai', 'beeper', 'larree', 'youlou', 'dhamma', 'tereti', 'allare', 'haddam', 'messer', 'keenes', 'hizzie', 'taboot', 'grager', 'olnton', 'speece', 'nassau', 'gagaku', 'ecesis', 'purrer', 'allain', 'nonent', 'rehear', 'wenden', 'invein', 'trotty', 'curara', 'okeene', 'resene', 'seller', 'seizes', 'kakapo', 'malaya', 'alaloi', 'amanda', 'scalls', 'danene', 'checke', 'tewell', 'ulujuz', 'fettle', 'allgas', 'amalee', 'byssus', 'mattah', 'syssel', 'haggai', 'mining', 'roemer', 'beaded', 'rubber', 'untaut', 'vacuua', 'errors', 'addeem', 'sikimi', 'coosuc', 'degage', 'snoots', 'abbate', 'burree', 'sorgos', 'scoots', 'mammie', 'alagau', 'faroff', 'megger', 'rocroi', 'towrow', 'alkali', 'saktas', 'crisis', 'leanne', 'vassal', 'nellie', 'tierer', 'abayah', 'pierre', 'veered', 'doodah', 'kalpak', 'verger', 'ataman', 'pettle', 'eggler', 'ravana', 'aegean', 'dorree', 'nogood', 'pennae', 'lilian', 'hoopoe', 'lehrer', 'cannat', 'aerage', 'chapah', 'emesis', 'viddui', 'henegg', 'davida', 'yessed', 'rehete', 'sloosh', 'keppen', 'repipe', 'tented', 'otosis', 'babkas', 'devvel', 'heezes', 'vervet', 'appals', 'attica', 'ferber', 'carack', 'padded', 'bopeep', 'nebbed', 'amomal', 'emilie', 'tazeea', 'vaasta', 'araban', 'isinai', 'lemuel', 'kerrie', 'tzetse', 'hollow', 'coroll', 'simois', 'gnomon', 'leveed', 'errata', 'appair', 'dieppe', 'millie', 'sellie', 'nitent', 'kiosks', 'toocoy', 'eassel', 'yawhaw', 'sashay', 'cetene', 'coropo', 'etnean', 'vtesse', 'settos', 'honcho', 'smokos', 'endent', 'server', 'skeets', 'attrap', 'illish', 'laccic', 'hillel', 'turmut', 'sharra', 'reamer', 'pompon', 'tenney', 'aradid', 'neoned', 'illich', 'regret', 'eyetie', 'triter', 'bosoms', 'sumass', 'ladeda', 'tittle', 'anonol', 'keokuk', 'panaka', 'beweep', 'csects', 'aerate', 'kashas', 'teated', 'tellen', 'debted', 'eddoes', 'intent', 'natala', 'steeks', 'cuculi', 'untent', 'untune', 'ingene', 'septet', 'cocoas', 'sittee', 'flyoff', 'fenner', 'dundee', 'apatan', 'fennel', 'rantan', 'susans', 'badass', 'sokols', 'fineen', 'bondon', 'stunts', 'melene', 'daveda', 'nonnat', 'efface', 'kelebe', 'polyol', 'tercer', 'eskers', 'severe', 'vaclav', 'panini', 'dodson', 'tworow', 'kahuku', 'arauna', 'canace', 'presee', 'eroses', 'hallee', 'gewgaw', 'mazuma', 'payday', 'cremer', 'tenner', 'cayuca', 'susana', 'highth', 'trusts', 'trutta', 'leedey', 'ramass', 'samara', 'cappae', 'retent', 'aguada', 'rippit', 'portor', 'roarer', 'renege', 'meakem', 'rizzio', 'malaga', 'thight', 'dilolo', 'sinian', 'lidded', 'effuse', 'eileen', 'sasins', 'dobbed', 'googly', 'abbaye', 'sattva', 'zinnia', 'wetted', 'goggly', 'donned', 'tillot', 'terzet', 'appere', 'linell', 'effume', 'luluai', 'dining', 'reflee', 'lolled', 'ateste', 'imidic', 'albana', 'liguli', 'riccio', 'olette', 'rianna', 'cecile', 'dindon', 'aeneas', 'reider', 'oogone', 'acidic', 'poppet', 'soekoe', 'queues', 'serene', 'sianna', 'biggin', 'mimmed', 'quinin', 'essera', 'tmeses', 'xoanon', 'weeble', 'nikkie', 'wooton', 'oglala', 'trotta', 'kelley', 'meeken', 'teetan', 'shells', 'rennet', 'netter', 'lerner', 'woolwa', 'channa', 'lassus', 'oillit', 'kuskos', 'mode', 'usrc', 'foch', 'mewl', 'boer', 'abeu', 'geth', 'vasu', 'lrap', 'dely', 'ughs', 'cion', 'grum', 'pock', 'cyma', 'doti', 'isdn', 'flaw', 'mawk', 'taif', 'suci', 'metz', 'deti', 'geis', 'anre', 'hyst', 'edva', 'ancy', 'bein', 'ondy', 'dauk', 'mean', 'weli', 'elms', 'rema', 'gult', 'rsle', 'item', 'birl', 'enow', 'vext', 'wirl', 'biwa', 'peso', 'owed', 'orin', 'usma', 'amer', 'oats', 'desi', 'jaen', 'cons', 'lori', 'laen', 'ibrd', 'yeth', 'gods', 'jays', 'hoke', 'bike', 'dche', 'whin', 'meld', 'noma', 'rule', 'pled', 'mika', 'king', 'worm', 'bnet', 'mint', 'peru', 'usan', 'lump', 'miry', 'jaur', 'orae', 'etka', 'himp', 'hope', 'rems', 'dnic', 'puce', 'pais', 'acbl', 'tecu', 'bing', 'cyan', 'shaw', 'darn', 'auln', 'gaps', 'anis', 'obel', 'taxy', 'guha', 'clop', 'nerc', 'rode', 'zeba', 'shot', 'sven', 'ahum', 'shtg', 'pima', 'duhr', 'ardy', 'core', 'lory', 'bisp', 'calo', 'fops', 'axis', 'nrpb', 'pmeg', 'cmot', 'beja', 'guar', 'lief', 'bunk', 'bank', 'jesu', 'mdiv', 'sorn', 'ised', 'kart', 'fria', 'nich', 'ctio', 'fosh', 'albe', 'tmis', 'pank', 'faze', 'lure', 'spad', 'snpa', 'pika', 'orgy', 'otlf', 'vast', 'rufi', 'apus', 'gabo', 'dahs', 'thow', 'acus', 'linc', 'fred', 'from', 'wage', 'nirc', 'pech', 'hues', 'paur', 'navi', 'dump', 'buke', 'dogy', 'ravo', 'alex', 'arms', 'ilke', 'nixe', 'cloe', 'kmel', 'lewd', 'urna', 'boma', 'cung', 'baxy', 'pike', 'ureo', 'rilm', 'quab', 'alic', 'iden', 'umpy', 'halm', 'bomu', 'tige', 'inky', 'tros', 'kryo', 'bods', 'etfd', 'axer', 'hump', 'warm', 'atwo', 'veni', 'rume', 'wabe', 'soga', 'roth', 'gora', 'bnsc', 'frco', 'pulk', 'uscg', 'peai', 'dago', 'vlsi', 'josy', 'cnes', 'moyl', 'clew', 'dulc', 'gifu', 'baru', 'rigs', 'rend', 'tove', 'lare', 'geal', 'shin', 'usna', 'vans', 'jila', 'udic', 'tonk', 'picr', 'aion', 'boke', 'ieso', 'enam', 'ovid', 'domy', 'angi', 'gery', 'qoph', 'bayz', 'shir', 'ptah', 'numb', 'ansi', 'hyte', 'chiv', 'cagn', 'hain', 'toye', 'vari', 'saum', 'piny', 'dtmf', 'crib', 'phio', 'yves', 'ster', 'upla', 'joab', 'sear', 'areg', 'bosc', 'swtz', 'nert', 'iare', 'keos', 'srac', 'elds', 'weak', 'play', 'manx', 'skel', 'gyte', 'town', 'pavo', 'styl', 'etna', 'bize', 'vuln', 'baku', 'olag', 'rask', 'laky', 'ramp', 'chao', 'fari', 'fiot', 'morw', 'time', 'cami', 'varl', 'nkvd', 'cedr', 'cain', 'egma', 'selz', 'sack', 'dyal', 'nasi', 'tuns', 'recd', 'imho', 'urge', 'guat', 'cusp', 'hyne', 'caty', 'tynd', 'vday', 'cris', 'hoax', 'ezba', 'jarp', 'taus', 'tern', 'gorz', 'lime', 'moli', 'make', 'yuit', 'psdn', 'vamp', 'wrox', 'joub', 'bael', 'omni', 'jany', 'mohl', 'msgt', 'syed', 'hoed', 'otic', 'ilha', 'pmrc', 'sera', 'kobe', 'ears', 'bmoc', 'agni', 'load', 'cnms', 'muna', 'dour', 'ekts', 'mane', 'tver', 'hemp', 'nork', 'isbd', 'sybo', 'dcmu', 'sand', 'trog', 'goer', 'ilka', 'spry', 'newt', 'spaz', 'grit', 'pard', 'hymn', 'ndsl', 'yila', 'eads', 'sned', 'phyl', 'bone', 'opsm', 'ambo', 'bler', 'cave', 'karo', 'brid', 'crup', 'masu', 'emad', 'wong', 'copr', 'gyor', 'geol', 'rawl', 'nova', 'lope', 'fide', 'usoc', 'huge', 'land', 'tela', 'ches', 'wyck', 'lign', 'ambi', 'mbwa', 'kdar', 'rude', 'drey', 'otha', 'ariz', 'fmea', 'wali', 'apdu', 'ogpu', 'nimb', 'shlu', 'hype', 'stoy', 'trib', 'awry', 'urde', 'suit', 'nide', 'yews', 'tano', 'drue', 'ciel', 'iour', 'intr', 'odac', 'shue', 'gran', 'ferv', 'moia', 'ijma', 'swig', 'onal', 'stra', 'hoer', 'neat', 'knop', 'scpd', 'moul', 'tush', 'koas', 'lehr', 'logs', 'ical', 'komi', 'base', 'cpio', 'daze', 'dint', 'fast', 'bija', 'hint', 'mown', 'baco', 'csar', 'rasp', 'bugs', 'zein', 'bklr', 'grep', 'tedi', 'ndak', 'gapo', 'oltp', 'krag', 'wauf', 'sher', 'leif', 'best', 'yote', 'warl', 'amye', 'katy', 'dita', 'holp', 'fake', 'balf', 'jovi', 'mobs', 'irme', 'temp', 'pams', 'owes', 'nugi', 'unit', 'aind', 'kmet', 'krna', 'meng', 'rois', 'zaid', 'loge', 'voes', 'pkwy', 'kins', 'lack', 'flot', 'apoc', 'yirm', 'devy', 'hema', 'milt', 'hyke', 'noex', 'move', 'tipe', 'ferd', 'vian', 'jimp', 'beld', 'cori', 'lugo', 'gtsi', 'behm', 'orch', 'elao', 'fido', 'ewan', 'jube', 'faus', 'plim', 'osme', 'regt', 'rape', 'wilt', 'dine', 'kuli', 'bola', 'naio', 'bukh', 'eyra', 'jabs', 'cliv', 'cern', 'mist', 'sark', 'yezo', 'spey', 'myra', 'biol', 'adci', 'stav', 'corf', 'rate', 'yarb', 'nebr', 'fore', 'etsi', 'phar', 'aids', 'irby', 'wakf', 'dioc', 'emir', 'opsy', 'duci', 'cpus', 'empt', 'begs', 'fyke', 'soar', 'zoic', 'rein', 'lord', 'unix', 'ouds', 'ltab', 'uris', 'bant', 'eria', 'mijl', 'igmp', 'shap', 'urol', 'klam', 'dauw', 'ugli', 'lawk', 'hpib', 'mear', 'inby', 'bals', 'aris', 'usmp', 'ucsb', 'keys', 'miao', 'jawy', 'woes', 'lobi', 'drum', 'foud', 'craw', 'donk', 'foah', 'ecsa', 'york', 'sten', 'rona', 'camb', 'plak', 'payt', 'utas', 'gamp', 'heml', 'joxe', 'zaps', 'ersh', 'aren', 'flip', 'stue', 'mope', 'sync', 'brat', 'rave', 'ahey', 'sure', 'bise', 'tham', 'hiro', 'awol', 'hula', 'leos', 'foil', 'arvy', 'musd', 'gude', 'lcdr', 'sapo', 'drip', 'imap', 'guck', 'liam', 'swab', 'khai', 'astr', 'cody', 'torn', 'neda', 'rasc', 'sbic', 'yerb', 'teas', 'lrbm', 'etic', 'iuds', 'huer', 'huey', 'maxy', 'ichs', 'icon', 'oryx', 'tcas', 'wove', 'gbip', 'vita', 'mead', 'zoug', 'ufos', 'gink', 'conv', 'hedi', 'taps', 'stap', 'posi', 'samy', 'sert', 'humo', 'mund', 'wina', 'snod', 'shea', 'bist', 'khoi', 'kral', 'resh', 'zbar', 'coif', 'irok', 'piru', 'ungt', 'hubs', 'moir', 'caye', 'tila', 'hots', 'wyat', 'impy', 'diaz', 'gram', 'pish', 'skat', 'haji', 'hasn', 'cobs', 'dyne', 'croy', 'sacr', 'arbe', 'nard', 'egad', 'gazy', 'yird', 'tera', 'surf', 'bash', 'gelb', 'epub', 'trun', 'dalk', 'cura', 'feud', 'guin', 'extg', 'abri', 'aked', 'bled', 'sken', 'taum', 'pubo', 'tums', 'baer', 'sdlc', 'reps', 'munt', 'damn', 'agin', 'voir', 'juni', 'firs', 'misy', 'jibe', 'vict', 'haje', 'jina', 'herp', 'came', 'bams', 'ismy', 'olpe', 'vish', 'fone', 'krym', 'xmtr', 'kunz', 'ciro', 'asio', 'ache', 'fray', 'pour', 'node', 'feat', 'acey', 'iuka', 'lerp', 'paut', 'bron', 'lias', 'whod', 'baho', 'tode', 'padi', 'naig', 'omri', 'inde', 'cens', 'bria', 'ynes', 'kans', 'carf', 'trod', 'jako', 'abfm', 'wide', 'lave', 'clow', 'nero', 'indo', 'quop', 'awst', 'aire', 'mial', 'fold', 'oler', 'juda', 'moly', 'noli', 'myxa', 'priv', 'airy', 'hade', 'pahl', 'cwms', 'rale', 'rika', 'bras', 'vlor', 'minx', 'otes', 'tram', 'mein', 'pnyx', 'poms', 'moit', 'amli', 'hano', 'yung', 'amen', 'oxea', 'maty', 'sign', 'fied', 'mors', 'wake', 'buhl', 'yoga', 'doli', 'swop', 'ptfe', 'trac', 'list', 'selp', 'cury', 'psig', 'rise', 'poul', 'joes', 'slad', 'doer', 'feta', 'bros', 'cida', 'drie', 'ceja', 'niso', 'doeg', 'ilot', 'vade', 'elsy', 'dori', 'lins', 'serg', 'brog', 'igad', 'meth', 'ilsa', 'dian', 'cole', 'joya', 'mits', 'rind', 'sore', 'yogi', 'wrvs', 'scap', 'deco', 'tule', 'dosi', 'debs', 'mhos', 'wega', 'bath', 'neth', 'glom', 'lore', 'nuci', 'isba', 'prof', 'diva', 'itol', 'turi', 'fack', 'sapr', 'elva', 'ivts', 'caus', 'icod', 'plow', 'brae', 'nady', 'mitu', 'body', 'bilk', 'bilo', 'velo', 'culp', 'mirk', 'abcs', 'fade', 'puna', 'cote', 'weys', 'fibr', 'orts', 'burs', 'medi', 'grey', 'dixy', 'frib', 'arsm', 'puja', 'bote', 'ough', 'kort', 'acre', 'ride', 'hura', 'cari', 'upgo', 'legs', 'joul', 'size', 'quem', 'ochs', 'kabs', 'itea', 'supa', 'cong', 'pact', 'gamb', 'sump', 'weri', 'demo', 'doms', 'then', 'msae', 'biel', 'gant', 'oket', 'vahe', 'remy', 'koan', 'tiao', 'mcon', 'hutg', 'pula', 'vlbi', 'roca', 'haps', 'cmdg', 'nips', 'nolt', 'info', 'awfu', 'plan', 'muid', 'mush', 'albo', 'deng', 'enki', 'amie', 'exul', 'zinc', 'lied', 'keup', 'fubs', 'tchu', 'yugo', 'cegb', 'haem', 'pics', 'duky', 'utch', 'pegu', 'narc', 'neaf', 'tmsc', 'farl', 'glar', 'deli', 'icos', 'wath', 'voca', 'oahu', 'dalf', 'ergs', 'vims', 'bsft', 'gcal', 'arcs', 'funs', 'ovis', 'iqsy', 'girt', 'algo', 'soja', 'zora', 'gord', 'tubs', 'thin', 'trop', 'coul', 'maun', 'dcvo', 'pial', 'dusk', 'pyas', 'ioab', 'horn', 'cirl', 'vang', 'eits', 'waki', 'flem', 'shik', 'skep', 'kudo', 'umea', 'dune', 'funt', 'bony', 'epha', 'anil', 'goli', 'nprm', 'goes', 'pulv', 'doha', 'made', 'ropy', 'gote', 'kler', 'avdp', 'fdub', 'repl', 'smtp', 'coat', 'ment', 'acse', 'kahn', 'zola', 'vedi', 'quey', 'eoan', 'plat', 'mrts', 'elod', 'sugh', 'alts', 'hips', 'step', 'bayh', 'cuny', 'bats', 'raye', 'swat', 'baul', 'sbli', 'wopr', 'fogs', 'snow', 'kase', 'loth', 'afro', 'bour', 'emit', 'maco', 'gola', 'fola', 'zerk', 'trad', 'save', 'cauk', 'veit', 'kusa', 'agos', 'furs', 'maud', 'klva', 'fgsa', 'pros', 'cupo', 'egin', 'nrzi', 'prud', 'pyle', 'lush', 'radu', 'awny', 'loma', 'rcas', 'upwa', 'pien', 'rudy', 'bolk', 'cdpr', 'glam', 'pkgs', 'efik', 'pits', 'jant', 'fahr', 'park', 'actu', 'with', 'ouch', 'gaur', 'morg', 'luxe', 'pron', 'auto', 'berk', 'rome', 'cony', 'owly', 'mays', 'puto', 'saul', 'pnea', 'pear', 'tris', 'lote', 'quim', 'zone', 'derp', 'glux', 'kurt', 'phyt', 'erst', 'dory', 'tyro', 'yipe', 'tody', 'mren', 'goar', 'chop', 'once', 'blus', 'guts', 'kain', 'isch', 'tonl', 'pyal', 'mako', 'mird', 'juli', 'wame', 'lapm', 'cues', 'limb', 'zysk', 'ways', 'arst', 'amok', 'reta', 'fort', 'dray', 'loca', 'knar', 'cora', 'mura', 'mcpo', 'xinu', 'lozi', 'pinz', 'jins', 'bind', 'skin', 'soya', 'aits', 'pean', 'gert', 'tank', 'khat', 'supr', 'yamp', 'doub', 'iong', 'dust', 'koln', 'kiby', 'tola', 'trey', 'left', 'yodh', 'pico', 'cars', 'ipso', 'fant', 'mori', 'toil', 'dams', 'pond', 'jard', 'eryx', 'brea', 'amil', 'fate', 'reft', 'rspb', 'apts', 'fwhm', 'hens', 'jauk', 'soda', 'laps', 'wogs', 'jazy', 'wags', 'oary', 'atms', 'irds', 'fnpa', 'glor', 'hati', 'dfms', 'nacs', 'luks', 'pilo', 'dais', 'hdbk', 'holt', 'luhe', 'bldg', 'phos', 'lian', 'roda', 'yirn', 'drew', 'ecod', 'lust', 'roin', 'vali', 'abey', 'turd', 'xema', 'toxa', 'riga', 'acie', 'plex', 'burk', 'kure', 'odif', 'acyl', 'rgbi', 'fish', 'woan', 'degu', 'bnfl', 'forb', 'sfdm', 'doze', 'gufa', 'slic', 'defy', 'piky', 'john', 'sina', 'said', 'cham', 'lfsa', 'toys', 'brot', 'coue', 'ecpt', 'warn', 'bang', 'smur', 'tena', 'nawt', 'alit', 'lant', 'waly', 'olen', 'loan', 'amis', 'sate', 'seko', 'labe', 'resp', 'zare', 'gape', 'adie', 'role', 'biga', 'floe', 'updo', 'coxa', 'neif', 'bona', 'kine', 'lode', 'epil', 'yurt', 'piro', 'paws', 'tubi', 'gowf', 'jane', 'ours', 'salt', 'cant', 'kago', 'shcd', 'mulk', 'geic', 'edit', 'cagr', 'fpdu', 'pesa', 'omer', 'dael', 'gaye', 'turp', 'acme', 'lugs', 'taws', 'tewa', 'chak', 'aune', 'gunj', 'gush', 'luis', 'kalb', 'pubs', 'gois', 'bice', 'baez', 'tyum', 'wens', 'burt', 'marx', 'mody', 'pyic', 'chez', 'gide', 'lyam', 'cair', 'basi', 'laun', 'nels', 'rswc', 'leva', 'pavy', 'icst', 'nats', 'blad', 'trim', 'heuk', 'mdnt', 'wadi', 'quib', 'purl', 'paye', 'talk', 'gilo', 'rumb', 'hops', 'giza', 'colt', 'fiar', 'tels', 'seat', 'merd', 'jasy', 'moan', 'lpda', 'vtam', 'vtol', 'mack', 'flax', 'iten', 'hyli', 'moca', 'mure', 'quat', 'hazy', 'impf', 'mroz', 'noct', 'luvs', 'kcvo', 'ugly', 'shul', 'fikh', 'kerf', 'btry', 'wkly', 'joey', 'hdlc', 'carb', 'hugs', 'shem', 'engr', 'rues', 'leon', 'rbtl', 'wyne', 'sigh', 'hasp', 'bust', 'paid', 'rcvs', 'caup', 'tdrs', 'blim', 'kobs', 'oleg', 'ctms', 'liar', 'dean', 'back', 'tuis', 'dols', 'herl', 'leia', 'wack', 'mero', 'saxe', 'mnos', 'idan', 'view', 'arui', 'gdns', 'rick', 'wort', 'cite', 'livy', 'bleo', 'micr', 'oles', 'kush', 'coef', 'doig', 'masb', 'lumb', 'sham', 'bode', 'boak', 'sial', 'glis', 'pred', 'blew', 'pnce', 'bdls', 'dane', 'fico', 'maux', 'cila', 'almo', 'sith', 'more', 'tura', 'rivo', 'vias', 'gaut', 'rhus', 'fuze', 'word', 'frag', 'cixo', 'pize', 'apis', 'paed', 'mast', 'rums', 'pyke', 'pasi', 'grot', 'yeas', 'facy', 'jory', 'crig', 'vibe', 'mshe', 'lops', 'agit', 'lear', 'slob', 'slan', 'badr', 'gash', 'long', 'nore', 'losh', 'miny', 'ator', 'dupr', 'fips', 'ovum', 'buna', 'ileo', 'cosy', 'bins', 'nate', 'ains', 'daye', 'slar', 'intl', 'tows', 'ribs', 'fork', 'bury', 'bsed', 'jari', 'tula', 'cmon', 'xero', 'pori', 'peng', 'holw', 'aone', 'feil', 'scog', 'itsy', 'tien', 'gule', 'tshi', 'ravi', 'oxen', 'fowk', 'bspt', 'tajo', 'hunt', 'tags', 'faur', 'fath', 'roit', 'earl', 'jody', 'nadh', 'tpke', 'dwan', 'scum', 'alco', 'gnaw', 'oxes', 'ford', 'city', 'echt', 'keas', 'sunt', 'chen', 'selv', 'crip', 'noby', 'gauk', 'etch', 'eadi', 'laur', 'neom', 'fine', 'orji', 'chit', 'usac', 'flue', 'swed', 'gilt', 'bile', 'duet', 'bred', 'palo', 'yade', 'sair', 'like', 'milo', 'etan', 'quin', 'isth', 'dies', 'liza', 'bsep', 'loeb', 'hurl', 'kyat', 'slow', 'imas', 'mice', 'xing', 'rest', 'kira', 'bart', 'knez', 'pork', 'sleb', 'lain', 'mech', 'edik', 'mani', 'welt', 'tach', 'noup', 'coys', 'skew', 'ivor', 'erny', 'dacy', 'mazy', 'pedi', 'gulf', 'palt', 'tish', 'uvid', 'feak', 'cuve', 'zeus', 'rufo', 'lowy', 'dags', 'yelm', 'wite', 'sero', 'igbo', 'tmrs', 'scat', 'task', 'fons', 'loyn', 'jail', 'lman', 'soni', 'phis', 'greb', 'frst', 'jovy', 'vira', 'typw', 'dime', 'mdas', 'nyas', 'clid', 'ospf', 'skip', 'ryde', 'disc', 'forz', 'urey', 'sine', 'kaif', 'hopi', 'flea', 'arlo', 'coes', 'dons', 'rafe', 'rang', 'wade', 'down', 'wafd', 'lupi', 'pian', 'enka', 'kirs', 'hued', 'ucsd', 'esky', 'ceto', 'wyco', 'pain', 'bowe', 'elks', 'fhma', 'jeth', 'flan', 'snot', 'dyun', 'beyo', 'ader', 'grav', 'dogs', 'bong', 'uvea', 'fens', 'maui', 'vail', 'yerk', 'stem', 'floy', 'bito', 'dpac', 'wahl', 'woke', 'dice', 'ldef', 'joni', 'snab', 'sitz', 'show', 'gary', 'edam', 'conk', 'mawn', 'nist', 'sufi', 'jape', 'gamy', 'coyn', 'swap', 'thym', 'ulen', 'beav', 'loin', 'spar', 'imer', 'lash', 'lost', 'merk', 'stir', 'hmos', 'fadm', 'soma', 'both', 'biot', 'fepc', 'meow', 'mols', 'baht', 'ejam', 'tsui', 'favn', 'dona', 'cate', 'hout', 'rais', 'tabu', 'mult', 'lodz', 'hoey', 'amor', 'betz', 'tosk', 'obey', 'lane', 'bwts', 'lavi', 'loam', 'tsel', 'taun', 'tour', 'naor', 'cran', 'reim', 'raun', 'friz', 'ream', 'yarn', 'chef', 'yali', 'sire', 'abhc', 'berm', 'okey', 'arfs', 'yite', 'sieg', 'kris', 'fags', 'bsme', 'poda', 'inch', 'tali', 'ague', 'femi', 'spun', 'lays', 'iadb', 'lept', 'nest', 'mews', 'bsir', 'hela', 'raob', 'wise', 'pung', 'chai', 'urgy', 'olea', 'menu', 'zarp', 'geno', 'type', 'luba', 'sock', 'cosh', 'frei', 'iglu', 'azle', 'hisn', 'byon', 'albi', 'clea', 'xyla', 'cldn', 'urea', 'knet', 'tega', 'expy', 'btam', 'hyps', 'refl', 'larn', 'msfr', 'wyon', 'kuge', 'help', 'neil', 'blit', 'thos', 'prew', 'eyas', 'leta', 'rotc', 'curl', 'brig', 'calp', 'lais', 'goan', 'pleb', 'kilo', 'yser', 'kbar', 'nori', 'dram', 'hans', 'lsap', 'lude', 'craf', 'seto', 'spit', 'bmet', 'rach', 'azof', 'hsln', 'srta', 'roxy', 'norw', 'bagh', 'amsw', 'olit', 'suth', 'hund', 'vets', 'rdes', 'kelt', 'octa', 'zapu', 'hove', 'alfe', 'spdl', 'nizy', 'hile', 'blah', 'bude', 'fran', 'reki', 'ywha', 'marj', 'isop', 'cram', 'locn', 'kuna', 'quot', 'naso', 'runt', 'ksar', 'gine', 'dews', 'misc', 'dent', 'fthm', 'haze', 'wime', 'goal', 'deys', 'bram', 'coin', 'teng', 'bspe', 'sake', 'yods', 'adze', 'kval', 'kemi', 'dsri', 'bstj', 'prec', 'thyr', 'lire', 'sncf', 'cent', 'cawl', 'pang', 'fume', 'apio', 'pita', 'fiat', 'amur', 'folk', 'spay', 'kwic', 'plur', 'darb', 'noir', 'skil', 'sipe', 'myna', 'thai', 'frau', 'doek', 'cuyp', 'ozen', 'hemi', 'liny', 'egis', 'wynd', 'iver', 'ebcd', 'zipa', 'mera', 'brno', 'leuk', 'tabs', 'togs', 'cart', 'frsl', 'lexa', 'udos', 'suld', 'dpsk', 'rowy', 'saml', 'loaf', 'naji', 'sick', 'leng', 'flyn', 'arle', 'ralf', 'riel', 'pots', 'stoa', 'atic', 'magh', 'kohn', 'leto', 'yard', 'gers', 'prut', 'jaob', 'emys', 'shod', 'lout', 'porc', 'baft', 'jeux', 'juza', 'theo', 'elda', 'gowd', 'rive', 'hock', 'cery', 'spik', 'hate', 'rand', 'bonk', 'torc', 'nusc', 'neck', 'lurg', 'admi', 'asti', 'neum', 'lebo', 'vads', 'nsug', 'whbl', 'yagi', 'zend', 'econ', 'atli', 'clum', 'saud', 'klip', 'fuds', 'upby', 'mixt', 'sade', 'nisc', 'tang', 'neph', 'hapu', 'nose', 'hifo', 'suez', 'cuit', 'rhin', 'kats', 'toph', 'merp', 'skaw', 'aile', 'guld', 'jfet', 'ikra', 'knag', 'hare', 'ipms', 'spic', 'rhiz', 'labs', 'kufa', 'leid', 'edac', 'noah', 'bids', 'kavi', 'uzia', 'mows', 'larc', 'meou', 'hupa', 'kyra', 'moln', 'cunt', 'lund', 'brad', 'bult', 'biro', 'sado', 'asem', 'eyah', 'evil', 'wick', 'ukes', 'dose', 'griz', 'dots', 'hdwe', 'wild', 'bori', 'roky', 'izle', 'gyas', 'frae', 'sort', 'mdes', 'ulah', 'frow', 'jeaz', 'saco', 'gotz', 'toze', 'nlrb', 'cloy', 'fluo', 'eury', 'zonk', 'veda', 'akim', 'vier', 'mink', 'pers', 'naid', 'orla', 'wast', 'ales', 'judi', 'lira', 'lase', 'jami', 'prev', 'marg', 'gyle', 'gneu', 'motu', 'beni', 'faki', 'phut', 'jati', 'nail', 'eldo', 'reva', 'pygo', 'wiyn', 'gyro', 'pram', 'cays', 'moig', 'vafb', 'bent', 'lowa', 'zink', 'burl', 'prin', 'spor', 'scab', 'rmas', 'vare', 'auro', 'efta', 'kief', 'droh', 'quod', 'piaf', 'jaup', 'epsi', 'pstn', 'rics', 'nace', 'lerc', 'okay', 'norm', 'ency', 'dewi', 'lots', 'thew', 'leks', 'dena', 'pims', 'ebon', 'odum', 'lick', 'judo', 'danu', 'dals', 'deny', 'loda', 'pich', 'doux', 'crux', 'jens', 'tref', 'gaed', 'sepd', 'aeon', 'ider', 'roxi', 'cany', 'bray', 'crio', 'viet', 'hols', 'gazi', 'bloc', 'hast', 'coth', 'many', 'ilwu', 'rahu', 'jola', 'kend', 'twum', 'buhr', 'beam', 'klux', 'parl', 'rims', 'pyne', 'safi', 'winy', 'oper', 'trin', 'emda', 'dyes', 'zenu', 'nevo', 'miun', 'feus', 'prey', 'hami', 'jota', 'meda', 'bldr', 'keto', 'alum', 'spiv', 'dola', 'thon', 'zmri', 'wipe', 'punk', 'creg', 'anse', 'rena', 'pant', 'ntia', 'umps', 'bida', 'zati', 'wavy', 'olig', 'mips', 'serb', 'teho', 'chlo', 'reno', 'join', 'rads', 'hale', 'abet', 'ghis', 'koal', 'voce', 'rotl', 'deus', 'snog', 'oxim', 'dero', 'frap', 'stud', 'khud', 'nale', 'ated', 'toea', 'iocs', 'sugi', 'amnt', 'cnsr', 'duit', 'ceil', 'chob', 'srbm', 'lazy', 'wigs', 'whop', 'mchb', 'tova', 'gruf', 'dtif', 'rots', 'dich', 'xfer', 'afgh', 'culm', 'ufer', 'whom', 'tune', 'islm', 'lion', 'vsop', 'orna', 'theb', 'thea', 'okie', 'qual', 'modi', 'gyri', 'slit', 'alek', 'sium', 'lino', 'sike', 'wust', 'inbe', 'fehq', 'bvds', 'nply', 'whan', 'sabe', 'uvre', 'kami', 'clep', 'nags', 'boid', 'iaso', 'bsrt', 'nila', 'acrv', 'juno', 'adsr', 'wais', 'wilk', 'acsu', 'cubs', 'ager', 'cowk', 'cize', 'lest', 'roti', 'quis', 'asch', 'zain', 'germ', 'kyle', 'rail', 'rals', 'rcpt', 'lrsp', 'eula', 'mgal', 'wald', 'aped', 'cark', 'span', 'sent', 'kipe', 'slae', 'nuda', 'kero', 'hero', 'cank', 'curn', 'aine', 'lown', 'mpch', 'okeh', 'rtse', 'mond', 'dufy', 'pith', 'asci', 'adur', 'warc', 'buts', 'line', 'dtas', 'aney', 'mand', 'yogh', 'yola', 'gaon', 'guns', 'remi', 'wsan', 'hlqn', 'knaw', 'deth', 'kiev', 'worn', 'mals', 'kemb', 'fmac', 'veto', 'olfe', 'gmur', 'lors', 'haft', 'kula', 'swot', 'lurk', 'shpt', 'cbel', 'alky', 'mots', 'fowl', 'serv', 'neto', 'brev', 'dawk', 'tahr', 'wode', 'chap', 'gown', 'audy', 'wean', 'ohia', 'moas', 'nomi', 'mira', 'huse', 'aloe', 'walk', 'gate', 'pref', 'atom', 'gret', 'laue', 'mant', 'odyl', 'mace', 'bsem', 'lask', 'kato', 'deaf', 'fabe', 'bena', 'wafs', 'care', 'stre', 'qktp', 'defs', 'dcmg', 'ltjg', 'urdy', 'agcy', 'faso', 'tyes', 'quay', 'bpoe', 'fila', 'mild', 'mved', 'chut', 'vacs', 'orms', 'dubs', 'kate', 'maje', 'thug', 'lndg', 'term', 'kanu', 'ison', 'gyno', 'actg', 'fins', 'ryke', 'pilm', 'chir', 'gore', 'hode', 'tmac', 'webs', 'gera', 'vera', 'bure', 'vfea', 'vial', 'levi', 'gpib', 'ruck', 'hwyl', 'fano', 'vagi', 'aeri', 'gawn', 'aves', 'litb', 'hypt', 'tume', 'lowe', 'aiel', 'ferk', 'jodi', 'vsat', 'skim', 'trah', 'mary', 'elis', 'toke', 'bsie', 'egol', 'fsdo', 'cuna', 'gish', 'ipce', 'tuik', 'rote', 'rype', 'rion', 'audi', 'kiln', 'dern', 'aide', 'rima', 'bari', 'zoie', 'cray', 'scad', 'kegs', 'jear', 'wels', 'neap', 'genl', 'weka', 'harb', 'yedo', 'luci', 'xref', 'aley', 'pawl', 'figo', 'brie', 'unct', 'tave', 'gnow', 'aoul', 'fact', 'hoeg', 'dink', 'auge', 'sucy', 'mler', 'litd', 'natu', 'dclu', 'yazd', 'slue', 'work', 'andr', 'orfe', 'sian', 'ieda', 'moya', 'twos', 'fike', 'logi', 'gawp', 'jynx', 'idvc', 'hyle', 'tied', 'keps', 'guvs', 'tiam', 'imso', 'dbrn', 'yeta', 'dewy', 'bite', 'toga', 'bugi', 'sked', 'fogy', 'puns', 'kyar', 'sino', 'imre', 'lucy', 'bort', 'kuri', 'clio', 'olds', 'foge', 'fice', 'rain', 'wich', 'odel', 'they', 'arni', 'belt', 'vano', 'tchi', 'baed', 'mlcd', 'ogum', 'fait', 'fuld', 'jone', 'spat', 'lich', 'acof', 'hews', 'vida', 'pews', 'nrab', 'scup', 'wein', 'moud', 'dieb', 'belg', 'ntec', 'jeno', 'dalt', 'vant', 'seba', 'ipse', 'gibe', 'lyso', 'miko', 'perh', 'lint', 'shim', 'gibs', 'khos', 'crea', 'hive', 'tomi', 'leor', 'puka', 'stum', 'mahi', 'wary', 'ecma', 'drau', 'eton', 'dhaw', 'satb', 'scun', 'huns', 'melt', 'renk', 'naum', 'fems', 'jacy', 'aime', 'oink', 'ivel', 'toru', 'coae', 'iago', 'hulk', 'only', 'nife', 'eyla', 'terp', 'such', 'tons', 'soup', 'avon', 'laos', 'siam', 'bard', 'tome', 'othe', 'gite', 'orma', 'pugs', 'inoc', 'nrdc', 'sabu', 'ramc', 'held', 'goda', 'mock', 'near', 'stan', 'lofn', 'uela', 'oliy', 'snob', 'avow', 'gdel', 'fumy', 'ecru', 'ayne', 'lier', 'dort', 'floc', 'kame', 'guam', 'miso', 'wire', 'slug', 'kile', 'puli', 'gain', 'pest', 'lace', 'hase', 'lmos', 'ulex', 'bhoy', 'hend', 'gecr', 'weal', 'beal', 'gist', 'dcpr', 'gyps', 'kang', 'fozy', 'lmft', 'thus', 'daks', 'cnab', 'alms', 'sekt', 'eisb', 'aper', 'veil', 'disk', 'muns', 'iron', 'pehs', 'kuba', 'hola', 'xyst', 'prae', 'bkpt', 'tica', 'nola', 'foia', 'mons', 'enif', 'ause', 'baun', 'falx', 'kahl', 'inez', 'dira', 'gems', 'beta', 'punt', 'prow', 'rhea', 'aivr', 'srcn', 'busy', 'nazi', 'lang', 'sadr', 'juna', 'womp', 'daut', 'hoad', 'warf', 'agen', 'oker', 'vest', 'egan', 'nice', 'gyve', 'tufa', 'holi', 'puck', 'hler', 'devs', 'msie', 'bohs', 'vild', 'flra', 'edhs', 'neut', 'reld', 'ymir', 'luik', 'spag', 'irtf', 'cuds', 'sumi', 'anth', 'hote', 'coil', 'suzi', 'dieu', 'mawr', 'dire', 'idly', 'casi', 'raft', 'joat', 'luke', 'fema', 'eric', 'urds', 'knot', 'mets', 'swag', 'expo', 'suid', 'pets', 'seck', 'pint', 'hear', 'gonk', 'prex', 'flay', 'gorb', 'rita', 'drat', 'jelm', 'yuan', 'svea', 'vole', 'otis', 'ecto', 'loup', 'shia', 'pern', 'noam', 'cape', 'tora', 'oken', 'mrfl', 'karb', 'tivy', 'ilex', 'gadi', 'hery', 'fern', 'asco', 'lcie', 'easy', 'meta', 'bokm', 'cyra', 'oita', 'ucon', 'plew', 'vasi', 'teal', 'yuki', 'thak', 'unal', 'kand', 'roup', 'grip', 'lois', 'woks', 'sang', 'liod', 'husk', 'reap', 'esra', 'eruc', 'oecd', 'dong', 'mars', 'runo', 'zubr', 'hang', 'cmip', 'sink', 'ivon', 'pule', 'olam', 'nave', 'jsrc', 'coal', 'cuir', 'khar', 'idle', 'shit', 'josh', 'swom', 'lawn', 'spin', 'msbc', 'drub', 'jews', 'slid', 'ketu', 'brcs', 'kial', 'kery', 'lung', 'thad', 'abys', 'nefs', 'reis', 'volt', 'elah', 'unde', 'nuri', 'rakh', 'olar', 'ador', 'phil', 'cubi', 'afsk', 'matr', 'torp', 'rimu', 'gouv', 'airs', 'sagy', 'leod', 'laud', 'digs', 'turk', 'klos', 'isar', 'berg', 'gimp', 'hier', 'dpnh', 'doke', 'banc', 'ento', 'suck', 'leak', 'dail', 'hite', 'jump', 'ghuz', 'sexy', 'frcs', 'thor', 'orth', 'rifs', 'fram', 'carl', 'jaye', 'bima', 'smug', 'whoi', 'lade', 'fils', 'kowc', 'onia', 'pcts', 'clue', 'jeri', 'dupe', 'scow', 'ibex', 'irks', 'ustc', 'caws', 'pleo', 'iowt', 'amon', 'ryme', 'odem', 'quai', 'ping', 'gari', 'mike', 'keat', 'urin', 'slbm', 'hemo', 'ryan', 'utah', 'puly', 'venu', 'fren', 'hild', 'myel', 'coda', 'vise', 'adon', 'glew', 'ican', 'lexi', 'syli', 'rbhc', 'puri', 'jock', 'vota', 'pail', 'omak', 'nasm', 'cive', 'caon', 'seif', 'milk', 'oria', 'chan', 'bscp', 'afsc', 'uang', 'nyse', 'tbar', 'capn', 'ecad', 'dura', 'mest', 'dace', 'ascq', 'yigh', 'bact', 'slop', 'abpc', 'vote', 'peta', 'gosh', 'ljbf', 'adiz', 'yond', 'lamb', 'heli', 'ible', 'stam', 'tils', 'fage', 'lacs', 'meno', 'secy', 'sput', 'nudi', 'gade', 'grid', 'bien', 'bevy', 'gode', 'uily', 'puca', 'boys', 'caen', 'pans', 'bema', 'obis', 'thed', 'hder', 'lavy', 'lake', 'nile', 'arly', 'mind', 'lair', 'vats', 'wale', 'than', 'purs', 'rivy', 'cule', 'inlb', 'warp', 'nows', 'firm', 'hire', 'ired', 'bixa', 'frim', 'kars', 'buri', 'emyd', 'pads', 'frit', 'qung', 'limp', 'hant', 'axon', 'much', 'wine', 'gens', 'tiro', 'dctn', 'pisk', 'nsec', 'port', 'jute', 'sima', 'nies', 'ftlb', 'moen', 'tend', 'nark', 'amir', 'fads', 'csmp', 'unco', 'iraq', 'suva', 'ipdu', 'ulta', 'posh', 'serf', 'fawn', 'scye', 'rets', 'rife', 'hdkf', 'usga', 'drow', 'jacu', 'skeo', 'pyes', 'dyke', 'nots', 'kayo', 'mdqs', 'ruth', 'hoyt', 'deka', 'phat', 'berl', 'barm', 'etua', 'tide', 'hayz', 'orem', 'gloy', 'zygo', 'biod', 'esch', 'zips', 'mend', 'sich', 'dike', 'slum', 'shoq', 'woad', 'cath', 'rnli', 'idou', 'ilea', 'froe', 'jisc', 'absi', 'okun', 'cose', 'bags', 'pace', 'frey', 'bufo', 'selt', 'wyld', 'jago', 'wauk', 'ripe', 'fica', 'bfhd', 'heap', 'tjon', 'swan', 'tung', 'ehfa', 'yalb', 'dacs', 'yock', 'bops', 'chon', 'trek', 'wiak', 'moil', 'chil', 'leds', 'yair', 'ichn', 'jerm', 'swiz', 'beck', 'spud', 'hsia', 'duax', 'safe', 'bluh', 'sarc', 'zahl', 'adis', 'patr', 'suba', 'snub', 'ecol', 'bhut', 'oner', 'veps', 'uart', 'repo', 'diol', 'laid', 'muts', 'gand', 'gour', 'joan', 'ryon', 'nbfm', 'sito', 'ctne', 'laze', 'mong', 'ervy', 'dove', 'yend', 'byes', 'limu', 'yuri', 'geod', 'oaky', 'ahoy', 'firn', 'entr', 'albs', 'oexp', 'yank', 'dino', 'alec', 'jour', 'fuel', 'drek', 'prmd', 'mita', 'jarg', 'snew', 'iter', 'zoba', 'tacy', 'odey', 'plio', 'insp', 'bohr', 'fohn', 'gild', 'waur', 'whau', 'glub', 'wady', 'yech', 'vmsp', 'edla', 'pigs', 'neal', 'dias', 'cork', 'glim', 'fdic', 'sctd', 'date', 'rose', 'petr', 'bons', 'peck', 'flog', 'puno', 'riva', 'taub', 'eliz', 'whir', 'raid', 'vary', 'xctl', 'bean', 'benz', 'pick', 'vogt', 'hosp', 'deas', 'guhr', 'sauf', 'wham', 'tube', 'liou', 'kela', 'gent', 'bird', 'jams', 'silt', 'nims', 'lgbo', 'love', 'rodi', 'rohn', 'mate', 'malo', 'saho', 'guti', 'oran', 'jule', 'herm', 'tsap', 'airn', 'poxy', 'loun', 'kuyp', 'qaid', 'snum', 'ouse', 'scar', 'bcws', 'hypn', 'rake', 'nswc', 'alif', 'yolk', 'clof', 'bits', 'nils', 'cats', 'laik', 'ably', 'cafe', 'wait', 'royt', 'joed', 'braw', 'crow', 'jark', 'roil', 'coak', 'keid', 'plos', 'pask', 'peto', 'nemp', 'gerd', 'ispy', 'zebu', 'twie', 'aret', 'rboc', 'elga', 'tabi', 'wive', 'urns', 'mich', 'gats', 'kalo', 'csrg', 'live', 'vayu', 'tway', 'meli', 'alin', 'truk', 'choy', 'balt', 'bchs', 'isle', 'ayre', 'fpha', 'zemi', 'gksm', 'amdt', 'grim', 'tore', 'ione', 'lutz', 'nfwi', 'gaub', 'fitz', 'muir', 'vols', 'dote', 'jupe', 'fans', 'hone', 'yvon', 'hume', 'gond', 'bumf', 'wank', 'saft', 'swak', 'ocam', 'gest', 'weds', 'reus', 'borg', 'ntsc', 'tnpk', 'sati', 'oime', 'edgy', 'dnhr', 'hose', 'xray', 'song', 'blfe', 'jopa', 'ahir', 'ezra', 'meck', 'oras', 'zyme', 'bhar', 'dato', 'gair', 'itys', 'obau', 'haum', 'auxo', 'anif', 'your', 'boyt', 'haim', 'pugh', 'pina', 'irmo', 'gise', 'tsdu', 'josi', 'inks', 'ruse', 'ducs', 'esox', 'drye', 'jozy', 'pcat', 'bouw', 'karn', 'ndis', 'geir', 'snag', 'rusa', 'dang', 'pegh', 'pyro', 'ouze', 'kern', 'pawk', 'kbps', 'sgml', 'ipoh', 'coli', 'chui', 'univ', 'jain', 'roye', 'fuad', 'steg', 'mair', 'stdm', 'aryn', 'loke', 'silo', 'emus', 'unca', 'reck', 'swen', 'hort', 'sowl', 'mels', 'fays', 'oils', 'wouk', 'curd', 'mspe', 'dcnl', 'yale', 'mahu', 'rosy', 'jake', 'seda', 'garo', 'vick', 'hail', 'gpad', 'ideo', 'funk', 'tile', 'tuny', 'utai', 'grue', 'haes', 'mabi', 'wied', 'exla', 'perl', 'mick', 'nurl', 'helm', 'hied', 'vice', 'zack', 'rehm', 'joli', 'eran', 'saon', 'foys', 'gaet', 'hind', 'nigh', 'dawe', 'skag', 'lisk', 'racy', 'hick', 'crus', 'edin', 'dmsp', 'weki', 'lido', 'flom', 'nabu', 'dera', 'piqu', 'june', 'oxus', 'shig', 'kirt', 'tmdf', 'wien', 'nemo', 'jets', 'yawn', 'flew', 'luca', 'gabi', 'palm', 'raku', 'rist', 'curs', 'isla', 'rulo', 'dhak', 'gave', 'bais', 'lymn', 'forl', 'gaun', 'heaf', 'riot', 'tavi', 'auks', 'yeuk', 'hplt', 'rows', 'yaru', 'fyrd', 'pars', 'mbps', 'rosa', 'duro', 'clam', 'noel', 'huso', 'hems', 'road', 'jger', 'epic', 'cyno', 'kaid', 'flag', 'gids', 'moth', 'host', 'scfh', 'harp', 'frig', 'egon', 'typo', 'tare', 'sped', 'juke', 'cera', 'knur', 'acop', 'cmyk', 'wyrd', 'etra', 'spec', 'void', 'sled', 'saye', 'duty', 'marl', 'tryp', 'kers', 'zoan', 'cpsr', 'alti', 'ines', 'wira', 'fong', 'kati', 'into', 'viol', 'waps', 'baro', 'wins', 'tyre', 'faky', 'uird', 'patd', 'lema', 'dcor', 'acid', 'zorn', 'xosa', 'wisd', 'bink', 'itel', 'achy', 'nako', 'drys', 'cevi', 'wang', 'hyde', 'gros', 'emic', 'jcet', 'ploy', 'ding', 'somn', 'virl', 'gies', 'libr', 'went', 'zest', 'mesa', 'jury', 'ompf', 'hein', 'mask', 'laux', 'roke', 'zarf', 'shag', 'cobh', 'teri', 'syre', 'futz', 'koel', 'roes', 'psid', 'boni', 'whoa', 'equi', 'conf', 'ocst', 'auew', 'fruz', 'muga', 'galp', 'leip', 'amin', 'bask', 'abox', 'shop', 'reit', 'leao', 'fibs', 'slaw', 'esdi', 'odin', 'hack', 'dbas', 'cide', 'raws', 'elsi', 'yest', 'golp', 'lora', 'ulmo', 'hect', 'gmrt', 'cast', 'dict', 'cheb', 'veno', 'wrns', 'coly', 'huke', 'shab', 'fisc', 'coam', 'exta', 'coml', 'mabe', 'hank', 'claw', 'zeks', 'flab', 'ware', 'dema', 'caum', 'gayl', 'fuse', 'sdoc', 'kina', 'cown', 'tirl', 'mvsc', 'cdev', 'jpeg', 'blay', 'goys', 'nude', 'faon', 'voyt', 'elys', 'inae', 'elna', 'aclu', 'khem', 'nedi', 'pase', 'lodi', 'slup', 'bawl', 'mone', 'gaum', 'pile', 'quel', 'cold', 'mank', 'lisa', 'goth', 'eyot', 'pacu', 'disp', 'eafb', 'hory', 'nole', 'dobe', 'adsp', 'beau', 'calx', 'mihe', 'toch', 'truc', 'esop', 'osar', 'rumi', 'doit', 'nabk', 'seka', 'slud', 'ltvr', 'inro', 'hurd', 'pied', 'gnus', 'sinh', 'davy', 'dabs', 'fino', 'yeat', 'tori', 'soac', 'lyes', 'tens', 'gerb', 'mtbf', 'tics', 'alme', 'tock', 'buat', 'gane', 'orly', 'nevi', 'smoc', 'spot', 'erma', 'blup', 'izar', 'egos', 'olga', 'rost', 'nake', 'smdi', 'meco', 'lean', 'adew', 'iowa', 'ramo', 'doab', 'fugs', 'hart', 'resa', 'bark', 'duel', 'hypo', 'lynd', 'wamp', 'syro', 'shou', 'bcpl', 'dusa', 'bain', 'zela', 'kibe', 'dost', 'filo', 'loja', 'daws', 'soke', 'serc', 'hags', 'whid', 'coen', 'tins', 'peda', 'judy', 'huic', 'goad', 'laon', 'elon', 'gayn', 'zuni', 'bthu', 'magr', 'ming', 'sion', 'fise', 'yong', 'frgs', 'bawd', 'cask', 'pome', 'spig', 'elik', 'heft', 'gina', 'dina', 'seit', 'taxi', 'arsb', 'flam', 'visa', 'tavs', 'awls', 'atwb', 'muta', 'nuba', 'romp', 'arin', 'aero', 'bier', 'lupe', 'obit', 'bela', 'bord', 'mins', 'ptsd', 'rids', 'heir', 'liew', 'homy', 'drug', 'maze', 'fuge', 'fixe', 'taco', 'buds', 'raec', 'ncte', 'opec', 'bows', 'leck', 'naut', 'suto', 'nejd', 'jarl', 'gads', 'cist', 'rous', 'nota', 'meal', 'luns', 'nays', 'cabs', 'spae', 'ivah', 'koae', 'mowe', 'bowl', 'quia', 'yaks', 'foxy', 'wiry', 'argh', 'pyre', 'bioc', 'gulp', 'flus', 'burg', 'lows', 'synd', 'qats', 'myco', 'robe', 'aldo', 'plod', 'surd', 'chym', 'atrs', 'aden', 'isat', 'guna', 'facd', 'perk', 'tone', 'stop', 'opes', 'wail', 'habu', 'wans', 'msha', 'dpmi', 'styr', 'qadi', 'galv', 'utes', 'what', 'marq', 'duma', 'idol', 'mens', 'surt', 'mirv', 'mats', 'coir', 'taku', 'woft', 'sope', 'yobi', 'maku', 'pals', 'zina', 'nato', 'pons', 'lath', 'teuk', 'zita', 'darg', 'fscm', 'apsu', 'mont', 'loft', 'roed', 'yost', 'unma', 'mopt', 'spif', 'nord', 'jaun', 'clut', 'masc', 'tuba', 'bunt', 'recs', 'cure', 'aver', 'esau', 'coma', 'jamb', 'yowt', 'tack', 'puky', 'cmds', 'gman', 'bork', 'kamp', 'page', 'kwei', 'blam', 'pret', 'gcvs', 'keir', 'toma', 'czar', 'kwan', 'rahm', 'howe', 'mktg', 'wehr', 'axed', 'smop', 'usfl', 'mide', 'weig', 'vide', 'heck', 'mcsv', 'tnop', 'lith', 'gena', 'paul', 'snug', 'agro', 'dope', 'farm', 'icbm', 'atle', 'echo', 'wing', 'faux', 'quaw', 'asel', 'bsch', 'aips', 'hico', 'glad', 'nias', 'cadv', 'wyle', 'doup', 'sung', 'apod', 'jary', 'rove', 'thae', 'cals', 'lego', 'gare', 'cdre', 'mnas', 'drou', 'wair', 'hvac', 'form', 'drch', 'agio', 'oeci', 'zane', 'byrd', 'byte', 'augh', 'isnt', 'sway', 'uitp', 'bait', 'potv', 'burp', 'coer', 'rkup', 'aesc', 'civy', 'iras', 'ghan', 'noak', 'itcz', 'syrt', 'eboh', 'baor', 'hust', 'gile', 'nbvm', 'hali', 'flit', 'albm', 'uran', 'hmas', 'tepa', 'advt', 'nold', 'thru', 'maed', 'elam', 'ofay', 'ezod', 'halo', 'hoem', 'evoy', 'chur', 'bads', 'kean', 'ruel', 'quam', 'maes', 'kohl', 'meir', 'lune', 'cbds', 'gelt', 'deul', 'adin', 'cyto', 'hilo', 'junt', 'yuks', 'xipe', 'tald', 'nsem', 'cozy', 'isom', 'trig', 'walt', 'litz', 'hets', 'boxy', 'madi', 'bold', 'ecom', 'cund', 'tuna', 'luge', 'gpcd', 'sites', 'tubby', 'aurir', 'blitt', 'herse', 'antia', 'poods', 'bunni', 'taira', 'naima', 'mayan', 'darry', 'zapas', 'traer', 'suede', 'unwon', 'zolle', 'lloyd', 'evers', 'flood', 'yalta', 'salat', 'corno', 'telei', 'ammer', 'romeo', 'casse', 'ernie', 'yasna', 'chizz', 'emyle', 'nelan', 'snast', 'adawe', 'duads', 'aidde', 'sinan', 'reice', 'annot', 'ahura', 'vivas', 'grimm', 'elger', 'cooba', 'meyer', 'denes', 'meier', 'argan', 'skaff', 'gubbo', 'oribi', 'beety', 'ohelo', 'ziffs', 'karia', 'cetes', 'mosts', 'inial', 'accur', 'primp', 'ffrdc', 'atent', 'homos', 'trixi', 'sheth', 'ieroe', 'irids', 'nishi', 'biggs', 'ailie', 'frees', 'atman', 'culch', 'loral', 'berry', 'icing', 'mools', 'akela', 'darpa', 'raffe', 'chubb', 'skeer', 'casus', 'binit', 'gabby', 'zudda', 'linie', 'petto', 'marat', 'dalli', 'imide', 'ieper', 'octic', 'nicki', 'pitts', 'leyes', 'amita', 'esher', 'regga', 'scoto', 'uvrou', 'ferne', 'bulbo', 'jammu', 'inari', 'rerun', 'autun', 'demmy', 'meted', 'molly', 'palar', 'slaws', 'rrhea', 'ionic', 'aegle', 'ossia', 'ewens', 'crick', 'praha', 'kosak', 'exter', 'wootz', 'clara', 'nufud', 'pooly', 'aniak', 'gylys', 'salts', 'tamal', 'dorso', 'galba', 'santa', 'pompa', 'enter', 'karat', 'debes', 'gemma', 'sauba', 'possy', 'fagan', 'barad', 'dorri', 'cadua', 'raddi', 'iliau', 'dbrad', 'shist', 'stirs', 'niris', 'excel', 'swags', 'halaf', 'rayah', 'bisks', 'niabi', 'amari', 'elexa', 'aetna', 'eydie', 'peggy', 'stoff', 'cease', 'oopak', 'orrum', 'sleek', 'shara', 'softs', 'barri', 'tonna', 'sirra', 'carce', 'theta', 'fnese', 'petuu', 'deady', 'rania', 'wauna', 'sheep', 'nssdc', 'mewer', 'doall', 'skill', 'vedda', 'ivana', 'abaco', 'rhett', 'ochro', 'irido', 'alkol', 'asoak', 'tasso', 'athal', 'lucic', 'gasan', 'antin', 'hists', 'guaba', 'apply', 'dolly', 'eilis', 'wesle', 'dolls', 'gilia', 'danai', 'kippy', 'banon', 'apast', 'foots', 'retry', 'exsec', 'elect', 'ekaha', 'denda', 'adder', 'sered', 'amias', 'cleck', 'hasan', 'whitt', 'orzos', 'merel', 'toldo', 'testy', 'condo', 'crecy', 'enage', 'bilby', 'pendn', 'ahwaz', 'tatou', 'weeds', 'sosie', 'tsana', 'swobs', 'micco', 'burtt', 'lulie', 'mapss', 'freen', 'tapia', 'seana', 'basat', 'battu', 'legal', 'brool', 'yucch', 'perea', 'urare', 'couac', 'click', 'luxus', 'remen', 'gamay', 'gowon', 'addis', 'isles', 'shipp', 'ramta', 'nulls', 'wuppe', 'taffy', 'lelia', 'lewie', 'balbo', 'virid', 'pinny', 'reset', 'sauna', 'eiger', 'kamat', 'oidia', 'moorn', 'alake', 'mimes', 'lupus', 'diode', 'admah', 'morra', 'dobro', 'weeda', 'murmi', 'tagal', 'aghas', 'dense', 'hurri', 'sstor', 'dooli', 'agrah', 'orren', 'conns', 'aaren', 'stupp', 'limmu', 'npeel', 'begem', 'warga', 'toros', 'bombs', 'luann', 'ephes', 'sfoot', 'conoy', 'deers', 'alisa', 'crete', 'pests', 'yells', 'pombo', 'youff', 'kelly', 'yirrs', 'hcsds', 'nitta', 'enate', 'mcbee', 'lasts', 'husht', 'whoop', 'poses', 'anoas', 'idolo', 'heyes', 'norco', 'keven', 'busby', 'rokee', 'sisto', 'boree', 'ratal', 'totum', 'somma', 'inuit', 'hunch', 'snips', 'osset', 'japan', 'reade', 'known', 'ember', 'senna', 'louls', 'mahat', 'wuwei', 'usafa', 'hokah', 'piped', 'emule', 'rower', 'agasp', 'reine', 'konyn', 'breme', 'meiji', 'hindi', 'airer', 'yancy', 'secus', 'gussi', 'izzat', 'patia', 'salar', 'miggs', 'palls', 'namda', 'nabal', 'wedel', 'webby', 'looie', 'tipin', 'apeek', 'baras', 'papyr', 'poore', 'didus', 'carry', 'afear', 'kneed', 'aroon', 'algas', 'ibada', 'gamas', 'lists', 'oryol', 'ulous', 'fanal', 'onkos', 'allow', 'moors', 'coopt', 'dudes', 'state', 'airla', 'riner', 'renin', 'teens', 'naggy', 'estey', 'resor', 'kassi', 'alley', 'cheer', 'weste', 'snots', 'vehme', 'event', 'mokum', 'ahvaz', 'rishi', 'dedal', 'fusee', 'peake', 'gaddi', 'cdiac', 'licia', 'sooth', 'neems', 'amici', 'malia', 'teles', 'krock', 'omora', 'loops', 'denna', 'roneo', 'hight', 'bable', 'sfree', 'catty', 'renae', 'celeb', 'goofy', 'cells', 'babul', 'tells', 'inken', 'woofy', 'rooms', 'decca', 'mokpo', 'scads', 'zelde', 'terra', 'sisco', 'timms', 'maroa', 'menam', 'ailis', 'aoede', 'compo', 'gazee', 'bakra', 'doped', 'haded', 'hoffa', 'fidia', 'kenny', 'tasia', 'mamry', 'tilla', 'afars', 'tazia', 'albee', 'halas', 'spete', 'geole', 'wahoo', 'relet', 'onemo', 'mitts', 'hecht', 'robbi', 'sidia', 'cuddy', 'panay', 'redds', 'hests', 'warri', 'daggy', 'nonas', 'malva', 'subst', 'jenin', 'dondi', 'marfa', 'nasda', 'mimsy', 'eckel', 'vedet', 'torte', 'kalli', 'piaba', 'palau', 'eadas', 'obese', 'agave', 'irene', 'sarad', 'aulae', 'saves', 'edema', 'wests', 'anele', 'pimps', 'behew', 'hosts', 'fhrer', 'ajuga', 'ultun', 'razer', 'kapas', 'dagna', 'shogs', 'kerki', 'indie', 'cooky', 'afoot', 'czech', 'bahay', 'konak', 'vallo', 'nonly', 'cabob', 'gummy', 'apian', 'seedy', 'cohos', 'accel', 'boodh', 'polos', 'uzzia', 'mozza', 'nubby', 'klemm', 'yeara', 'icaco', 'glial', 'derek', 'junna', 'moost', 'ungag', 'tuath', 'radha', 'latia', 'batan', 'folio', 'boozy', 'ytter', 'tibio', 'iispb', 'jenna', 'henze', 'aalst', 'whyll', 'seggy', 'nance', 'bedel', 'pliss', 'apina', 'leuce', 'puffy', 'zayat', 'laoag', 'eject', 'smitt', 'riser', 'abdal', 'lafta', 'atmas', 'raker', 'afoam', 'aggur', 'jewel', 'kacha', 'jibba', 'charr', 'shams', 'teddy', 'cusks', 'shana', 'eyrie', 'rorty', 'shood', 'slapp', 'seely', 'shaya', 'dacha', 'dayal', 'korff', 'brava', 'honor', 'oisin', 'baham', 'rerow', 'rifer', 'arvad', 'wysty', 'smogs', 'dimmy', 'aroot', 'sheen', 'brett', 'mahau', 'koslo', 'atoka', 'kyoto', 'deppy', 'chics', 'telae', 'johor', 'porgo', 'imvia', 'primi', 'scows', 'blinn', 'orton', 'hypho', 'meets', 'biagi', 'kovno', 'gibby', 'heder', 'neume', 'pyatt', 'kerak', 'tarfa', 'totem', 'coroa', 'aiwan', 'cobol', 'oxboy', 'acroa', 'mayme', 'meroe', 'arrio', 'adlay', 'scoff', 'norna', 'hajjs', 'ferie', 'garau', 'cooja', 'alpha', 'sycee', 'tweeg', 'wells', 'dyana', 'stoon', 'arroz', 'nspmp', 'ascap', 'lasse', 'ranee', 'groot', 'heise', 'kadai', 'slums', 'holle', 'kiack', 'cists', 'terat', 'choca', 'topog', 'mckim', 'laria', 'fanam', 'hoppe', 'kills', 'tanno', 'dille', 'soras', 'curua', 'cidin', 'makar', 'gaged', 'sherr', 'animi', 'coeno', 'embue', 'leers', 'loeil', 'berne', 'lwoff', 'engle', 'accoy', 'ophio', 'bromo', 'jtunn', 'niece', 'basta', 'lurer', 'coact', 'ezara', 'pipal', 'spins', 'sanka', 'mimer', 'ochoa', 'moose', 'kilij', 'tutor', 'skull', 'ellan', 'pense', 'midis', 'siege', 'adaty', 'pixie', 'shiai', 'smush', 'amato', 'feted', 'crewe', 'armor', 'dusun', 'metty', 'penup', 'macap', 'dexec', 'onaga', 'polio', 'decke', 'seize', 'dubby', 'sniff', 'goloe', 'becca', 'echea', 'tenno', 'ratha', 'puett', 'vigil', 'khalk', 'kusso', 'kazan', 'sivie', 'aneta', 'abuta', 'fauna', 'nutty', 'esque', 'praam', 'wawro', 'garua', 'mahan', 'vinny', 'knorr', 'iyyar', 'twana', 'areel', 'spere', 'reace', 'albas', 'obols', 'didym', 'nonic', 'nerin', 'eemis', 'lessn', 'hoofy', 'haman', 'josee', 'eyrar', 'yazoo', 'bises', 'groop', 'rhymy', 'noint', 'spoof', 'ahigh', 'execs', 'creel', 'tanny', 'ogees', 'incan', 'buxus', 'kiddo', 'frapp', 'acast', 'susyq', 'ionia', 'talca', 'waffs', 'rajas', 'roots', 'reles', 'wheem', 'balpa', 'kihei', 'mayag', 'ensue', 'gratt', 'valle', 'jagua', 'smook', 'rover', 'total', 'tempt', 'ekwok', 'epscs', 'meuse', 'skunk', 'bunny', 'tippy', 'lerne', 'reeky', 'tunny', 'henge', 'massy', 'samba', 'tommy', 'leden', 'camra', 'doors', 'grier', 'belve', 'erbes', 'erase', 'niuan', 'akeki', 'teide', 'arter', 'spini', 'paper', 'alena', 'gimme', 'moxee', 'hanch', 'farer', 'murra', 'barna', 'anima', 'hihat', 'benes', 'farro', 'popie', 'koloa', 'dairi', 'satan', 'agmas', 'innes', 'usque', 'aruac', 'thant', 'shuha', 'recur', 'asser', 'nurry', 'abave', 'going', 'seats', 'kists', 'sachs', 'akpek', 'dally', 'aroma', 'snaws', 'veega', 'pepin', 'ceert', 'rooty', 'niton', 'shays', 'coamo', 'rossi', 'tasha', 'debye', 'gilim', 'notan', 'anmia', 'liles', 'prior', 'teyde', 'orrin', 'dryad', 'cusec', 'iloko', 'thurt', 'krill', 'vizir', 'neron', 'crock', 'poloi', 'dizzy', 'shoon', 'smurr', 'yagua', 'sects', 'pilin', 'wasps', 'paolo', 'yesty', 'raser', 'banak', 'meggy', 'rheme', 'wolly', 'praya', 'garmr', 'celss', 'kloof', 'amhar', 'quinn', 'adawn', 'spoon', 'floss', 'henny', 'ivett', 'ataxy', 'rafvr', 'turku', 'mysis', 'gamal', 'katha', 'khufu', 'krupp', 'semei', 'cliff', 'flees', 'taccs', 'hells', 'aspca', 'loofa', 'faade', 'calas', 'award', 'kassu', 'aural', 'wisps', 'merri', 'areal', 'serri', 'vella', 'letty', 'pokom', 'amacs', 'fulup', 'snibs', 'yeggs', 'aliza', 'fifed', 'saris', 'loewe', 'deeps', 'winna', 'arene', 'izaak', 'forra', 'dooly', 'maars', 'lanny', 'chuck', 'lesed', 'cepes', 'kolos', 'weepy', 'dhabb', 'brood', 'heize', 'prepn', 'matax', 'grata', 'hutch', 'ambay', 'wicca', 'teats', 'anack', 'nipup', 'wausa', 'madai', 'samia', 'pence', 'smils', 'maera', 'zalea', 'odder', 'bitts', 'sobor', 'conor', 'conan', 'betty', 'netta', 'quiff', 'toosh', 'cutch', 'izawa', 'hersh', 'topoi', 'amida', 'lautu', 'lilah', 'oboli', 'three', 'thokk', 'tahua', 'leper', 'deads', 'lyses', 'labby', 'rosio', 'yarak', 'veena', 'freet', 'abamp', 'ipava', 'gemel', 'beefs', 'goole', 'herry', 'leven', 'gulls', 'pease', 'zabra', 'jugum', 'yucky', 'wryly', 'adila', 'agway', 'karma', 'oozes', 'odawa', 'aways', 'asahi', 'swops', 'ferro', 'hammy', 'boole', 'urger', 'arica', 'frary', 'snads', 'gutte', 'fanni', 'beall', 'wrawl', 'heloe', 'xeres', 'negev', 'berte', 'nunky', 'sleds', 'skene', 'moons', 'arati', 'cohol', 'braga', 'leery', 'sauks', 'brigg', 'prepg', 'fence', 'salpa', 'saeta', 'lamar', 'pasta', 'ziara', 'peale', 'toole', 'skeps', 'criss', 'loyal', 'agsam', 'erect', 'refel', 'alant', 'awash', 'lotor', 'ileal', 'berme', 'ninut', 'wezen', 'berea', 'aimee', 'ocala', 'bebop', 'beode', 'kerri', 'sigil', 'attry', 'roose', 'balac', 'maida', 'urlar', 'calah', 'tapoa', 'thoro', 'kanas', 'edana', 'banda', 'logos', 'ville', 'nanji', 'raman', 'evase', 'cozmo', 'capps', 'daffy', 'mikir', 'teaer', 'idell', 'greed', 'bucca', 'lumme', 'cindi', 'jinny', 'oasts', 'chook', 'widow', 'kinny', 'chadd', 'natka', 'reefs', 'ladle', 'dured', 'ellyn', 'dunny', 'reran', 'sleer', 'caroa', 'civie', 'fiscs', 'tinia', 'dioti', 'latty', 'onymy', 'herne', 'rakia', 'retar', 'toity', 'leeth', 'imshi', 'woody', 'tilty', 'arona', 'blabs', 'kalki', 'nunes', 'kasha', 'lasso', 'pinic', 'snapp', 'poori', 'undue', 'coorg', 'deste', 'feaze', 'cicad', 'soord', 'galah', 'kafta', 'tinta', 'sinai', 'macan', 'stilt', 'arhna', 'douro', 'gobby', 'soony', 'oxeye', 'sabby', 'gloom', 'ganny', 'beche', 'sixes', 'abidi', 'ramer', 'fanya', 'hewer', 'seena', 'elate', 'cormo', 'humus', 'melie', 'deloo', 'kanya', 'betes', 'layby', 'socii', 'peers', 'bsaee', 'inoff', 'piing', 'takar', 'ilana', 'shaka', 'acoma', 'emote', 'topee', 'goony', 'winny', 'plebe', 'egide', 'unwan', 'shies', 'jemma', 'kokas', 'aging', 'osana', 'sooty', 'inwit', 'stubs', 'bonny', 'dooja', 'horry', 'iraki', 'idyll', 'akees', 'malms', 'aroda', 'klara', 'platt', 'mills', 'sakes', 'scopp', 'anlas', 'arain', 'slily', 'fetes', 'pasan', 'heddi', 'selen', 'acima', 'hyozo', 'lenin', 'seech', 'rooke', 'kheth', 'spaes', 'agete', 'altar', 'keyer', 'warta', 'teths', 'vnern', 'nalda', 'eyass', 'hecte', 'preen', 'arber', 'taran', 'basad', 'terry', 'busks', 'soaps', 'vajra', 'heugh', 'coded', 'bunin', 'ardri', 'anita', 'rases', 'kodro', 'zoons', 'immov', 'varro', 'anent', 'merse', 'gazzo', 'nolos', 'oraon', 'miasm', 'bambi', 'olson', 'meles', 'talao', 'saggy', 'rerub', 'shahi', 'askar', 'crook', 'aswan', 'barac', 'beent', 'turus', 'septs', 'rusks', 'gipps', 'riata', 'hewgh', 'justs', 'gnawn', 'swabs', 'bahar', 'petey', 'uvala', 'sosna', 'bongo', 'clach', 'kamay', 'olton', 'amban', 'ferry', 'purau', 'aotea', 'bokos', 'rocca', 'abats', 'tuque', 'moony', 'scoon', 'yills', 'gwynn', 'dredi', 'isiac', 'gorga', 'carya', 'andia', 'ayina', 'soldo', 'local', 'teuto', 'riker', 'slags', 'mccoy', 'beyle', 'bivvy', 'malda', 'aglee', 'cobby', 'ovalo', 'cufic', 'tween', 'catan', 'ecize', 'kecks', 'faina', 'nuadu', 'cocus', 'lauia', 'abebi', 'evens', 'estus', 'kokia', 'avast', 'roses', 'galli', 'bombe', 'poona', 'wadna', 'doree', 'octet', 'bloop', 'vlada', 'galee', 'shojo', 'gyatt', 'atame', 'spuds', 'avoca', 'balls', 'psoas', 'pulls', 'dawna', 'buffo', 'theer', 'beyer', 'vagas', 'bedad', 'abuzz', 'sisel', 'tease', 'refed', 'villa', 'hilly', 'polly', 'bayda', 'silts', 'again', 'avram', 'jerri', 'wills', 'oasal', 'deuce', 'choom', 'cymry', 'poohs', 'malum', 'radii', 'slues', 'gager', 'snigs', 'rebeg', 'alane', 'botts', 'thess', 'unona', 'magee', 'sewed', 'stoof', 'wanda', 'trior', 'pessa', 'masts', 'bezel', 'casks', 'jemmy', 'lieue', 'setae', 'toddy', 'stith', 'pagas', 'glaab', 'menes', 'daiva', 'maria', 'aemia', 'hedge', 'cosse', 'aargh', 'nasua', 'vivda', 'alvia', 'tiffy', 'guffy', 'ivies', 'apaid', 'littm', 'zooid', 'oncin', 'roomy', 'talya', 'enode', 'scadc', 'bessy', 'ezana', 'herra', 'carrs', 'vises', 'buffs', 'gauss', 'kakis', 'proso', 'engel', 'tapet', 'rares', 'gnarr', 'tucum', 'delly', 'weems', 'berey', 'bosks', 'yumuk', 'grefe', 'maray', 'zeena', 'fouqu', 'lemma', 'baubo', 'truss', 'derri', 'scatt', 'ddcmp', 'weill', 'untin', 'nason', 'rager', 'addle', 'yusuk', 'mamor', 'casha', 'thirt', 'toons', 'dreda', 'unfur', 'arret', 'benny', 'elayl', 'couch', 'aeger', 'trapa', 'sibby', 'ssbam', 'lajas', 'assyr', 'passy', 'drees', 'efrem', 'isawa', 'zoeae', 'sluff', 'vegie', 'mukul', 'dowdy', 'lytta', 'sluts', 'yomim', 'nella', 'meeds', 'atria', 'alvan', 'ayllu', 'zakah', 'jeery', 'ccoya', 'scabs', 'giana', 'irwin', 'katik', 'aevia', 'theah', 'icity', 'feels', 'bezzi', 'ansar', 'danya', 'abbes', 'cechy', 'creek', 'carap', 'ociaa', 'adage', 'panza', 'bully', 'yucca', 'sumps', 'tints', 'faxan', 'sleep', 'rearm', 'kibbe', 'galea', 'keble', 'apeak', 'rasla', 'husks', 'hewed', 'ascus', 'oilla', 'naira', 'gasps', 'bitto', 'appmt', 'joann', 'sasin', 'fists', 'agamy', 'joost', 'jubbe', 'nasab', 'hasht', 'ietta', 'trier', 'arank', 'zingg', 'skeeg', 'grego', 'dully', 'peter', 'crees', 'istic', 'perry', 'oobit', 'trust', 'ronna', 'sesra', 'macaw', 'harka', 'mulla', 'solus', 'ratti', 'bauta', 'pratt', 'mlles', 'kuoyu', 'evite', 'ditri', 'doses', 'wanny', 'anomo', 'brenn', 'vuggy', 'doffs', 'kokum', 'cocky', 'haddo', 'whall', 'fatal', 'scifi', 'porto', 'lehet', 'dalia', 'jisms', 'stems', 'steed', 'samaj', 'didst', 'pipey', 'troff', 'lense', 'oyama', 'rahal', 'idite', 'canun', 'thoft', 'warer', 'nixie', 'baffy', 'rebel', 'xever', 'cress', 'vmcms', 'givin', 'upcut', 'tobol', 'banal', 'gueux', 'crull', 'woons', 'ceres', 'keiko', 'betel', 'buber', 'sspru', 'licit', 'emlen', 'loasa', 'esdud', 'joses', 'slits', 'mezzo', 'agram', 'sheff', 'twilt', 'conic', 'eleva', 'clela', 'plott', 'tiara', 'whoof', 'fanga', 'graig', 'hatty', 'segue', 'reeva', 'edtcc', 'snobs', 'teave', 'netts', 'feyly', 'piasa', 'payee', 'shows', 'dunno', 'homeo', 'amahs', 'abaci', 'arias', 'baddy', 'roydd', 'levet', 'hausa', 'cappy', 'silic', 'kahau', 'mahla', 'usecc', 'somlo', 'titer', 'anion', 'ngwee', 'orlon', 'anova', 'donee', 'disks', 'arete', 'brynn', 'gunge', 'petta', 'stept', 'tippo', 'spaad', 'freyr', 'dorry', 'murut', 'jimmy', 'whirr', 'marah', 'edveh', 'milit', 'truer', 'hence', 'iwbni', 'sophs', 'khaph', 'awacs', 'salle', 'ruses', 'cabda', 'genre', 'ruddy', 'salse', 'gaitt', 'vests', 'filix', 'loopy', 'bwana', 'ewers', 'gases', 'deeyn', 'diced', 'eagle', 'karee', 'yelek', 'ikara', 'ledda', 'wemmy', 'skoot', 'snogs', 'modem', 'nonyl', 'tossy', 'gerek', 'ising', 'troco', 'billy', 'groos', 'sacco', 'verry', 'imsvs', 'kazoo', 'obara', 'lotte', 'soles', 'cutty', 'fatty', 'roric', 'nasca', 'mudee', 'popes', 'marva', 'robby', 'bamaf', 'bazoo', 'thanh', 'gongs', 'ellon', 'aback', 'irian', 'unman', 'zarga', 'altha', 'lezes', 'taggy', 'nisen', 'bucku', 'gigot', 'tript', 'kiaat', 'genni', 'lamel', 'atnah', 'jeffy', 'wolff', 'truff', 'eaten', 'feune', 'shaws', 'cumic', 'algae', 'seder', 'lindi', 'kucik', 'sonny', 'sours', 'janua', 'vicco', 'kulak', 'lapel', 'asius', 'aerie', 'wever', 'ribby', 'balao', 'weide', 'allie', 'lemal', 'bille', 'ailee', 'aitis', 'hucho', 'sully', 'knick', 'sapan', 'mitzi', 'olnee', 'gobos', 'asoka', 'seige', 'xhigh', 'azusa', 'toast', 'mamey', 'eigne', 'purer', 'lenny', 'gooky', 'elegy', 'looed', 'kreep', 'selie', 'revel', 'astto', 'khaya', 'rusts', 'bezzo', 'macco', 'harry', 'mbaya', 'ships', 'abbie', 'aleda', 'nitid', 'kissy', 'amadi', 'daffi', 'klenk', 'iline', 'scomm', 'deena', 'poole', 'shall', 'uskok', 'ilisa', 'heter', 'balan', 'abede', 'nasya', 'almas', 'dills', 'metel', 'speen', 'heben', 'kunin', 'oculo', 'alysa', 'leech', 'pepos', 'tegea', 'staal', 'tufty', 'berar', 'bells', 'jumma', 'gugal', 'zimmy', 'huffy', 'aland', 'posse', 'wynns', 'acaws', 'weber', 'isiah', 'jeddo', 'dania', 'fally', 'keaau', 'slugs', 'mohos', 'gleen', 'orosi', 'swaps', 'unson', 'klick', 'agaty', 'kaiwi', 'boosy', 'olavo', 'fezzy', 'whewl', 'grogs', 'ladar', 'lonna', 'magas', 'asabi', 'denni', 'bomos', 'netti', 'scase', 'hooge', 'skeel', 'dived', 'jessy', 'skuas', 'cumul', 'walls', 'hench', 'ahsan', 'arbor', 'eleph', 'ratwa', 'idaea', 'broos', 'somis', 'petit', 'twist', 'werra', 'hamal', 'repen', 'venez', 'balau', 'gwinn', 'allen', 'terle', 'snits', 'spits', 'amado', 'chanc', 'adlar', 'illus', 'sikes', 'basso', 'gorry', 'booma', 'kinks', 'shots', 'ceder', 'laxly', 'saban', 'raper', 'alias', 'sawah', 'vania', 'usual', 'lippe', 'nguni', 'vives', 'noggs', 'steps', 'lilac', 'piper', 'dahna', 'seals', 'dulls', 'ednie', 'dados', 'meave', 'tarry', 'vases', 'rinee', 'nabac', 'tweed', 'cello', 'shuls', 'vinci', 'capax', 'elvet', 'birrs', 'kirin', 'rebob', 'oorie', 'izmit', 'crres', 'esten', 'keels', 'daira', 'angka', 'niolo', 'hakea', 'fulls', 'acate', 'frett', 'noell', 'booty', 'kusum', 'bumbo', 'zarah', 'wholl', 'cedes', 'taula', 'labia', 'conto', 'ubana', 'hoklo', 'ahmad', 'digit', 'hitin', 'alded', 'sesma', 'molli', 'nasal', 'dasha', 'benni', 'neill', 'robur', 'chili', 'huzzy', 'queer', 'tammy', 'hewes', 'dixit', 'kynan', 'ossie', 'irred', 'jixie', 'arnon', 'dafla', 'larva', 'ailsa', 'milia', 'ramee', 'britt', 'ninos', 'sewer', 'rewed', 'sezen', 'debel', 'talma', 'riana', 'muggy', 'tondo', 'misos', 'saeed', 'huaca', 'kimmy', 'femes', 'rotos', 'darla', 'dilis', 'shooi', 'devel', 'hathi', 'smews', 'regel', 'upsun', 'haifa', 'masai', 'lagna', 'ivins', 'runin', 'roker', 'scall', 'palpi', 'ombro', 'passo', 'repel', 'jabia', 'baese', 'mobby', 'songs', 'buell', 'pases', 'aldas', 'zaria', 'tabbi', 'deets', 'zimme', 'tillo', 'ollen', 'ellin', 'anson', 'foote', 'canch', 'bahoo', 'janka', 'arsis', 'jedda', 'sippy', 'smarm', 'nusku', 'sarts', 'pomos', 'honna', 'gring', 'indri', 'pluff', 'somme', 'heyho', 'akene', 'parma', 'vanya', 'deale', 'shool', 'larsa', 'raffs', 'vasts', 'pesek', 'picco', 'oxalo', 'aucan', 'alloy', 'henke', 'beedi', 'norrv', 'avars', 'kizil', 'mende', 'eanes', 'maraj', 'daria', 'biffy', 'menno', 'raiae', 'tarre', 'gurge', 'segos', 'euler', 'exies', 'sooky', 'hooey', 'shaia', 'roana', 'lutts', 'dakar', 'gekko', 'jurua', 'dotty', 'amant', 'taiga', 'lulab', 'hodad', 'poulp', 'maxia', 'nitty', 'frill', 'idism', 'valyl', 'junji', 'pacas', 'kaela', 'dippy', 'sereh', 'smrgs', 'flinn', 'poofs', 'pongo', 'hecco', 'tasks', 'heddy', 'waacs', 'educe', 'bourr', 'glass', 'aavso', 'cunny', 'expel', 'testa', 'relly', 'neons', 'gavia', 'ebner', 'sheeb', 'lapaz', 'weott', 'genep', 'malmo', 'kexes', 'arjay', 'talak', 'solio', 'gemmy', 'tithe', 'souks', 'rewet', 'antas', 'parrs', 'uller', 'unnew', 'waded', 'sayee', 'peise', 'gawra', 'batak', 'jeane', 'idead', 'toted', 'prore', 'shews', 'summa', 'rills', 'pools', 'soggy', 'leets', 'snuff', 'purus', 'mussy', 'achab', 'davao', 'tarri', 'wirer', 'ruffs', 'arage', 'hunan', 'kiddy', 'adagy', 'joola', 'spans', 'boony', 'pharr', 'stool', 'gyppo', 'odont', 'tewed', 'prese', 'letta', 'binny', 'geigy', 'costs', 'visie', 'nikon', 'apses', 'lawai', 'nants', 'erose', 'snell', 'peetz', 'scams', 'tenth', 'sards', 'nonie', 'chara', 'sheet', 'resex', 'cholo', 'gajda', 'laluz', 'usphs', 'galan', 'merge', 'nessa', 'polyp', 'kirks', 'khayy', 'booky', 'cooer', 'smeek', 'brill', 'chass', 'kurus', 'iddat', 'conin', 'plaza', 'cooke', 'abura', 'minum', 'coree', 'steff', 'meeks', 'tibbs', 'lamia', 'irina', 'steen', 'chace', 'kyzyl', 'anton', 'hondo', 'kaila', 'greff', 'butsu', 'turro', 'torta', 'nuque', 'valda', 'itala', 'treat', 'sheer', 'tiana', 'fewer', 'minny', 'civia', 'heths', 'beggs', 'vulvo', 'jaban', 'wowed', 'dyads', 'kinky', 'situs', 'cozza', 'malta', 'lease', 'klatt', 'hissy', 'belem', 'hillo', 'camla', 'tilth', 'ragee', 'jheel', 'freed', 'ester', 'ifree', 'affer', 'rieti', 'jaddo', 'canny', 'peert', 'wakan', 'scuds', 'aahed', 'aecia', 'uneye', 'keleh', 'hatte', 'brass', 'yeply', 'irbid', 'gruss', 'slaps', 'indan', 'keest', 'zitis', 'estre', 'oppen', 'geoff', 'tinny', 'daroo', 'phono', 'keare', 'hemen', 'razor', 'galle', 'saiff', 'chirr', 'snags', 'eaves', 'aralu', 'civil', 'kauai', 'meute', 'greet', 'sabes', 'soddy', 'teage', 'lorel', 'marry', 'exdie', 'bhili', 'ambas', 'caoba', 'daeva', 'pills', 'arase', 'perce', 'kukri', 'wuzzy', 'rural', 'askja', 'ility', 'idaic', 'tarrs', 'vexed', 'bekki', 'elfie', 'sirih', 'yetta', 'giddy', 'colly', 'riper', 'tanah', 'lanaz', 'losse', 'tcsec', 'faena', 'sonni', 'bilbo', 'fussy', 'tissu', 'dandy', 'leake', 'tacit', 'ootid', 'patte', 'looch', 'weedy', 'srini', 'didle', 'uchee', 'whuff', 'bebat', 'upolu', 'stite', 'kerne', 'aquas', 'lazar', 'orris', 'arnee', 'asdsp', 'tally', 'mesel', 'warba', 'hoppy', 'estas', 'ghoom', 'moore', 'sowse', 'corri', 'briss', 'spell', 'tetch', 'adnah', 'tinct', 'zetta', 'toyon', 'sousa', 'stars', 'mappy', 'theft', 'jebel', 'gombo', 'dabby', 'leppy', 'typps', 'arrow', 'valsa', 'kwapa', 'racer', 'bpete', 'weall', 'hacht', 'byrri', 'mayey', 'cisco', 'rotow', 'zirai', 'jejun', 'cleek', 'kutta', 'pobox', 'aulas', 'vinia', 'totes', 'gerry', 'calan', 'kiwis', 'stedt', 'nummi', 'todos', 'kriss', 'michi', 'boors', 'senso', 'uboot', 'eries', 'ollav', 'ghess', 'aldan', 'rupee', 'gests', 'wyatt', 'parer', 'erena', 'usnas', 'scups', 'amoco', 'jeana', 'siepi', 'askos', 'nunce', 'comma', 'creen', 'aloof', 'nobby', 'ossip', 'watts', 'comme', 'pozzy', 'sucks', 'anoka', 'socio', 'lhasa', 'udell', 'mcfee', 'swell', 'arian', 'nucin', 'biddy', 'allis', 'hhour', 'trees', 'meeth', 'aimak', 'baiae', 'vibix', 'ottar', 'rizzo', 'doyly', 'raddy', 'nooks', 'dalle', 'oligo', 'spill', 'masan', 'byssi', 'ozzie', 'eagar', 'sordo', 'tryst', 'moron', 'scuts', 'asura', 'waggy', 'arach', 'scene', 'russo', 'feala', 'ummps', 'boogy', 'calia', 'dykey', 'wrier', 'soths', 'lanza', 'nones', 'mafia', 'duomo', 'every', 'hutto', 'sarus', 'clack', 'arval', 'rondo', 'howff', 'adeep', 'silyl', 'rakan', 'aliya', 'abask', 'speel', 'appui', 'nills', 'fuses', 'penni', 'dearr', 'monee', 'lagan', 'arkab', 'dewer', 'ninja', 'nikky', 'secre', 'queme', 'nunki', 'allix', 'fogon', 'defoe', 'uigur', 'rethe', 'nullo', 'valma', 'tarah', 'gooma', 'vacoa', 'exode', 'astms', 'oklee', 'mambu', 'ruffo', 'rehoe', 'bilbe', 'lunna', 'offal', 'dacia', 'velva', 'crore', 'acrab', 'meech', 'kinna', 'hupeh', 'tempe', 'petti', 'hooty', 'loory', 'henna', 'ninth', 'grete', 'jills', 'kelep', 'rabah', 'khaki', 'silly', 'aware', 'xysts', 'ormer', 'appet', 'mojos', 'outgo', 'fokos', 'jenni', 'ruffe', 'neeps', 'suzzy', 'croce', 'taqua', 'jagra', 'satay', 'ennoy', 'efren', 'woops', 'crass', 'soars', 'sabah', 'milam', 'tugui', 'leann', 'kalat', 'barbe', 'scops', 'prill', 'cheme', 'pilei', 'baggs', 'annoy', 'tibia', 'bayly', 'silin', 'maiah', 'lucca', 'jonna', 'pumps', 'conch', 'leeks', 'hoses', 'ushas', 'baccy', 'arhat', 'brizz', 'axial', 'intis', 'boonk', 'dryer', 'yssel', 'hicht', 'aceta', 'tabac', 'rayas', 'corol', 'minie', 'sensu', 'sella', 'wheel', 'igara', 'divia', 'whill', 'tooke', 'unbud', 'facia', 'matha', 'ariki', 'fayal', 'patti', 'cicer', 'ilama', 'dalea', 'guana', 'garry', 'igloo', 'secos', 'visas', 'colic', 'cusps', 'canap', 'droob', 'jests', 'proof', 'ammos', 'zooty', 'teart', 'tvtwm', 'sntsc', 'ruffi', 'hinch', 'wonna', 'revie', 'agast', 'muffy', 'luffa', 'floro', 'goops', 'ician', 'rubus', 'gavra', 'spurs', 'endue', 'troll', 'idden', 'dyann', 'sauls', 'fuzee', 'cubeb', 'indio', 'jutta', 'epner', 'apiin', 'simia', 'bohon', 'panda', 'encke', 'reesk', 'ptype', 'ulmus', 'heyer', 'niata', 'jaffe', 'unken', 'blizz', 'palea', 'hurff', 'appro', 'kongo', 'bubos', 'noddi', 'rabia', 'macau', 'runon', 'ozona', 'shufu', 'manno', 'weeks', 'mutus', 'hinny', 'livvy', 'erine', 'reuel', 'wooer', 'kneel', 'oshee', 'revue', 'oboes', 'unsee', 'solod', 'dalan', 'ricki', 'troop', 'amati', 'cacei', 'arabi', 'nandu', 'heved', 'lilty', 'retie', 'chaco', 'suras', 'shree', 'boiko', 'lizzy', 'silds', 'daman', 'alain', 'tolyl', 'heyde', 'bouto', 'brees', 'pelew', 'matty', 'boong', 'pavan', 'umiri', 'deave', 'altay', 'sarre', 'bocoy', 'dibai', 'blagg', 'eager', 'bress', 'corry', 'tommi', 'booth', 'tanya', 'iambi', 'stere', 'neffy', 'makuk', 'wises', 'teiid', 'pmirr', 'difda', 'tourt', 'seqed', 'loree', 'naacp', 'holly', 'achar', 'steve', 'vroom', 'vigia', 'lepre', 'haggi', 'pulps', 'coosa', 'trala', 'sates', 'purrs', 'fifth', 'breen', 'diann', 'moham', 'twixt', 'ovapa', 'treen', 'moola', 'barca', 'reena', 'gippy', 'byway', 'smash', 'gleet', 'verne', 'toois', 'goofs', 'teels', 'saiva', 'trass', 'bakke', 'lipic', 'juana', 'domed', 'cocka', 'seler', 'breba', 'breek', 'cahan', 'banns', 'edrea', 'sheds', 'crura', 'slops', 'sicks', 'yanky', 'feedy', 'seeho', 'samoa', 'starr', 'toret', 'maras', 'xylol', 'macha', 'teaze', 'kokra', 'djinn', 'klapp', 'sakai', 'lever', 'gypsy', 'magna', 'kerel', 'pobby', 'zucco', 'arawn', 'henie', 'rorie', 'unsin', 'hoggy', 'baals', 'empeo', 'veers', 'gammy', 'nihon', 'fille', 'cirro', 'spodo', 'enzed', 'freir', 'barry', 'lisps', 'duala', 'ataps', 'prodd', 'firer', 'users', 'jaela', 'sorra', 'dexes', 'molls', 'milly', 'coots', 'spece', 'calle', 'ursuk', 'puses', 'ryley', 'copps', 'nests', 'thoom', 'snows', 'ledge', 'nisei', 'kikes', 'jutty', 'buddh', 'bocce', 'gibbs', 'bbxrt', 'damar', 'eclss', 'wools', 'wevet', 'wirra', 'tamra', 'achoo', 'weiss', 'crare', 'glott', 'lanka', 'cayla', 'mudde', 'glene', 'stunt', 'akira', 'wraaf', 'zilla', 'yarly', 'eater', 'nessi', 'rolls', 'batea', 'yawny', 'boody', 'asare', 'sipid', 'acuan', 'duppa', 'weave', 'autum', 'tripp', 'katar', 'atypy', 'molal', 'bimbo', 'agace', 'issue', 'arela', 'cluck', 'magda', 'stoas', 'yabbi', 'spall', 'adali', 'xenon', 'dyfed', 'tubba', 'grece', 'boeke', 'cooey', 'sores', 'garda', 'regen', 'jaded', 'roofy', 'chaga', 'provo', 'toffs', 'surfs', 'baiss', 'bluff', 'gough', 'uriia', 'embed', 'bilic', 'potts', 'lulea', 'comox', 'tatie', 'hagia', 'depew', 'loofs', 'douds', 'yechy', 'eched', 'tapas', 'ameen', 'phene', 'pooty', 'elata', 'shill', 'saree', 'socks', 'buddy', 'clete', 'cross', 'enmew', 'undub', 'capsa', 'regur', 'monjo', 'anyah', 'terri', 'mimly', 'bahia', 'egall', 'yaffs', 'pinna', 'lynen', 'shott', 'bessi', 'jolla', 'lenno', 'tarty', 'woosh', 'ronin', 'vivre', 'tasty', 'saids', 'luaus', 'haggy', 'namen', 'guage', 'recco', 'serfs', 'combo', 'madra', 'repew', 'bazar', 'billa', 'putto', 'leben', 'twats', 'color', 'sopor', 'gonof', 'aeolo', 'fifes', 'parao', 'hexer', 'drury', 'maggi', 'warda', 'haram', 'drava', 'cools', 'abear', 'chaya', 'saxes', 'libia', 'menon', 'taite', 'suffr', 'ardea', 'parca', 'elise', 'linis', 'bekaa', 'padua', 'doggy', 'cauda', 'mille', 'emili', 'agura', 'redid', 'latax', 'absee', 'arado', 'baaed', 'jessa', 'agate', 'halle', 'wroot', 'choop', 'grigs', 'speed', 'booms', 'remde', 'nylon', 'kente', 'eyoty', 'detta', 'dekko', 'moppy', 'petie', 'elche', 'spise', 'nific', 'chica', 'heeds', 'nammu', 'grubb', 'gwawl', 'shiff', 'currs', 'durry', 'osaka', 'figge', 'scobs', 'skere', 'cuppa', 'yttro', 'binna', 'yeech', 'jiqui', 'ethel', 'zoara', 'nerte', 'needy', 'gansa', 'sumup', 'calci', 'aghan', 'adela', 'eucre', 'sacha', 'baram', 'emend', 'ulcus', 'tanha', 'jarry', 'mimeo', 'cuffy', 'hulch', 'medle', 'groow', 'addie', 'aggri', 'bonns', 'firmr', 'anica', 'tessy', 'tiffa', 'scree', 'venin', 'rabbi', 'soong', 'swann', 'basis', 'kalam', 'mavra', 'mekka', 'haika', 'ragas', 'manal', 'cilla', 'lammy', 'flagg', 'limbi', 'didna', 'cobbs', 'heger', 'loros', 'gleed', 'sayal', 'algol', 'manga', 'jemez', 'sipes', 'ratan', 'amase', 'idium', 'gighe', 'iulus', 'calls', 'verel', 'peggi', 'obola', 'hazan', 'peine', 'cocle', 'emesa', 'aillt', 'basra', 'tokyo', 'latea', 'tusks', 'latah', 'looby', 'avail', 'pooka', 'ulana', 'molle', 'rober', 'flurr', 'artal', 'goico', 'lepal', 'dells', 'rebab', 'swoop', 'dolli', 'anaxo', 'ayear', 'udder', 'allys', 'slays', 'urari', 'yaboo', 'senex', 'elide', 'skews', 'donor', 'arola', 'engin', 'abuna', 'visit', 'tyste', 'cella', 'torry', 'corer', 'orola', 'adobo', 'bisti', 'aleak', 'fatma', 'lipin', 'fugue', 'beane', 'torre', 'cenac', 'cacur', 'kenon', 'stann', 'salma', 'donny', 'geest', 'patty', 'halfa', 'aspia', 'peage', 'dobby', 'crche', 'rajah', 'offed', 'pupin', 'idiot', 'cosmo', 'jerez', 'babur', 'petty', 'lonny', 'detat', 'jells', 'mazda', 'altaf', 'ayahs', 'bidri', 'hetty', 'ronny', 'slash', 'trull', 'oases', 'achan', 'ozone', 'icono', 'pulpy', 'geeks', 'coele', 'boomy', 'nieve', 'oolak', 'keech', 'bided', 'tessi', 'seppa', 'indic', 'barbi', 'ongun', 'myoma', 'eggar', 'aheap', 'gassy', 'toppy', 'braza', 'metae', 'mirid', 'hamsa', 'bihai', 'berri', 'ledol', 'elana', 'ddpex', 'occur', 'sieve', 'baiza', 'nonah', 'sooey', 'mumsy', 'dodge', 'ryann', 'rcmac', 'shads', 'navar', 'batwa', 'bobet', 'akali', 'vaman', 'muzzy', 'suddy', 'marta', 'tibby', 'fills', 'coomy', 'maiid', 'paddy', 'loose', 'gange', 'neche', 'holla', 'undee', 'pasha', 'kodak', 'sinks', 'feyer', 'nibby', 'kwara', 'lieve', 'derve', 'lippy', 'ssort', 'bayam', 'masha', 'irish', 'littd', 'arabs', 'bpdpa', 'beden', 'susah', 'tyree', 'putts', 'cetic', 'toyos', 'trite', 'knapp', 'lowly', 'manny', 'goose', 'littb', 'rheae', 'aldol', 'aioli', 'circs', 'beata', 'jagla', 'sanai', 'waals', 'longo', 'krama', 'vinna', 'burut', 'eider', 'bever', 'slabs', 'bruzz', 'cooth', 'delve', 'figgy', 'spook', 'reeba', 'newel', 'anniv', 'skids', 'elmer', 'tuant', 'genin', 'talli', 'gelly', 'kumyk', 'inone', 'abram', 'daisi', 'hippo', 'gehey', 'marka', 'cabas', 'runny', 'sansk', 'preed', 'ancon', 'gezer', 'bajan', 'iviza', 'gatha', 'unkin', 'myrrh', 'swish', 'mizzy', 'skers', 'koorg', 'laksa', 'bania', 'sagai', 'pepys', 'duffy', 'haras', 'nanci', 'wiggy', 'camag', 'campa', 'jello', 'ceric', 'korry', 'chuff', 'ysaye', 'cotte', 'kanae', 'irbis', 'habbe', 'outof', 'cecal', 'meers', 'coons', 'cirrh', 'kulun', 'roann', 'belli', 'gabbi', 'eleut', 'cloop', 'becco', 'folly', 'sodas', 'uella', 'tayra', 'benue', 'jolee', 'canea', 'donni', 'andee', 'carat', 'gorge', 'hatti', 'tamms', 'ceara', 'myopy', 'heres', 'willy', 'odilo', 'stoop', 'verge', 'plump', 'witte', 'agora', 'zimbi', 'topos', 'perse', 'syces', 'woolf', 'mumps', 'kalle', 'vezza', 'leola', 'arrey', 'hurry', 'egret', 'nolly', 'eyrir', 'ineri', 'drill', 'cleve', 'wadai', 'qubba', 'boldo', 'bella', 'roger', 'xiphi', 'leesa', 'pahoa', 'babus', 'gadge', 'zanze', 'debbi', 'kotow', 'bynin', 'cuzco', 'cohog', 'mooth', 'vicia', 'samau', 'udall', 'drool', 'touts', 'tella', 'finns', 'lanao', 'zullo', 'ifere', 'salad', 'dryly', 'fiefs', 'hoopa', 'assur', 'porry', 'malax', 'inonu', 'mahwa', 'bobac', 'gobbe', 'thach', 'twill', 'syrus', 'gerbe', 'goode', 'quihi', 'zalma', 'tampa', 'irani', 'boffs', 'tikis', 'ehudd', 'harpp', 'ovoid', 'sabia', 'nedda', 'ewhow', 'pacha', 'dessa', 'potti', 'karla', 'bolly', 'tikka', 'adham', 'puggi', 'tract', 'roost', 'gibli', 'kerge', 'sides', 'batty', 'twere', 'stymy', 'cyndy', 'malmy', 'quaff', 'hache', 'reave', 'moton', 'whoso', 'argas', 'dared', 'pepla', 'never', 'loons', 'banat', 'arand', 'bozos', 'uzara', 'elyse', 'amani', 'ogata', 'jenei', 'renie', 'sohio', 'brunn', 'ccafs', 'betti', 'unorn', 'tello', 'mease', 'rehem', 'smell', 'trant', 'batna', 'maggs', 'stums', 'tisic', 'rawer', 'emery', 'thebe', 'brana', 'krell', 'tahar', 'sulla', 'isaak', 'eddic', 'deare', 'whush', 'ascii', 'corvo', 'deice', 'taunt', 'sabra', 'jalee', 'tibet', 'llano', 'kella', 'maura', 'sisak', 'dekle', 'labaw', 'barbu', 'aedes', 'cerci', 'iceni', 'tania', 'abepp', 'gorer', 'curch', 'joell', 'mella', 'julus', 'stows', 'lobel', 'gyges', 'knack', 'araks', 'randn', 'alate', 'manba', 'heall', 'fiann', 'emile', 'barea', 'snubs', 'licca', 'elane', 'jeddy', 'laang', 'draba', 'frier', 'rigor', 'annex', 'tropo', 'adeem', 'uvula', 'dioon', 'maiga', 'crool', 'ovoli', 'amaut', 'happy', 'pavla', 'navvy', 'pammi', 'patna', 'avian', 'sodio', 'wasts', 'deter', 'aldea', 'camak', 'khama', 'kikar', 'weesh', 'apgar', 'sayso', 'slask', 'alosa', 'obiit', 'dieri', 'linne', 'ardor', 'theme', 'broon', 'heine', 'jibby', 'assen', 'pipes', 'elvie', 'toone', 'reube', 'elaeo', 'meloe', 'behre', 'miffs', 'quipu', 'begob', 'eyers', 'mphps', 'jarad', 'sunna', 'gabar', 'sifts', 'lonne', 'hetti', 'ordos', 'gutta', 'tamar', 'sades', 'hirai', 'catti', 'rella', 'watap', 'whish', 'roofs', 'yajna', 'herem', 'alani', 'gloss', 'kinic', 'cully', 'abbye', 'akita', 'pammy', 'dried', 'decem', 'liddy', 'notts', 'jerry', 'creed', 'naias', 'hoops', 'larry', 'hashy', 'hajji', 'droll', 'snaps', 'usara', 'sinus', 'bassy', 'adell', 'ahouh', 'hemes', 'blurb', 'cotty', 'dedra', 'codec', 'piaui', 'carma', 'codcf', 'rinna', 'hoplo', 'homam', 'nudum', 'ganza', 'darer', 'bsdes', 'coffs', 'abaft', 'calva', 'jaggy', 'belen', 'sttng', 'lussi', 'reedy', 'jhool', 'warua', 'boons', 'banff', 'kroon', 'rosse', 'blebs', 'saura', 'hatch', 'enema', 'vened', 'jiffy', 'shims', 'holli', 'druid', 'stree', 'lydda', 'usurp', 'friss', 'emane', 'sivas', 'eroso', 'whewt', 'fully', 'ralli', 'sorts', 'aweel', 'rexes', 'bottu', 'chill', 'byday', 'ajani', 'capoc', 'geeup', 'saraf', 'oxbow', 'dulla', 'lezzy', 'cotta', 'ranarian', 'jararaca', 'singsing', 'coconino', 'lynnelle', 'nappanee', 'alfalfas', 'rebeller', 'lallygag', 'cascaras', 'deepeyed', 'couscous', 'cocorico', 'deedless', 'mokamoka', 'seedness', 'neshness', 'onetoone', 'grisgris', 'preparer', 'surucucu', 'reverser', 'embedded', 'gooseegg', 'walhalla', 'giggling', 'kemmerer', 'cuscuses', 'tzitzith', 'keenness', 'osteoses', 'twittwat', 'sikinnis', 'essences', 'detected', 'papinian', 'tenement', 'barabbas', 'beseleel', 'cocobolo', 'diddikai', 'bepepper', 'sealless', 'lensless', 'teetered', 'unneeded', 'eyeberry', 'remurmur', 'ioannina', 'mellette', 'crawcraw', 'berberry', 'refreeze', 'hellhole', 'rubberer', 'ongaonga', 'chiachia', 'cataract', 'shammash', 'callaloo', 'appearer', 'cacanapa', 'stresses', 'chowchow', 'lomilomi', 'alitalia', 'alunalun', 'sulculus', 'kankanai', 'lamellae', 'toryrory', 'verderer', 'libellee', 'sassella', 'babbette', 'referees', 'dressers', 'assamese', 'diddered', 'reassess', 'sissyism', 'lollypop', 'isidioid', 'dripdrip', 'kaukauna', 'carraran', 'poplolly', 'chugchug', 'biajaiba', 'fearfree', 'refereed', 'pililloo', 'hotshots', 'theetsee', 'rerefief', 'assassin', 'reseller', 'jujutsus', 'gossoons', 'illwilly', 'kankakee', 'reretire', 'voodooed', 'reelrall', 'seedbeds', 'deterrer', 'farefree', 'leveller', 'totterer', 'relessee', 'oddmedod', 'giffgaff', 'labbella', 'remember', 'subbassa', 'khutuktu', 'peetweet', 'babassus', 'notition', 'unendued', 'soissons', 'nahtanha', 'ticktick', 'depended', 'bilabial', 'titterer', 'tenterer', 'koolooly', 'hadassah', 'edgeweed', 'leavelle', 'kallikak', 'giannini', 'recesser', 'leadlead', 'cassavas', 'bluebell', 'tartaret', 'fermerer', 'mammilla', 'vivianna', 'excesses', 'hulahula', 'bulnbuln', 'morogoro', 'rattaree', 'cootfoot', 'retorter', 'anzanian', 'lappilli', 'carracci', 'tosspots', 'cassatas', 'fatagaga', 'speisses', 'alcabala', 'reletter', 'popoloco', 'initiant', 'colocola', 'disseise', 'atalanta', 'nikaniki', 'chichili', 'saneness', 'doddered', 'philippi', 'careerer', 'trottoir', 'nannette', 'bandanna', 'mottetto', 'testates', 'diiodide', 'galangal', 'assagais', 'qaimaqam', 'deerweed', 'appellee', 'mesosome', 'assessed', 'sponsons', 'peesweep', 'hooroosh', 'hutukhtu', 'sissiest', 'tirrwirr', 'chuchchi', 'esbensen', 'avadavat', 'paapanen', 'ratatats', 'caseases', 'ginnings', 'millimol', 'restress', 'affeerer', 'wellless', 'whowhoop', 'derriere', 'namangan', 'titbitty', 'streeter', 'letteret', 'lewellen', 'esthetes', 'rorytory', 'caracora', 'mimetite', 'piffpaff', 'barabora', 'cucullus', 'reverses', 'sterrett', 'gangbang', 'deterred', 'teletext', 'defended', 'engining', 'reveneer', 'expellee', 'williwaw', 'almallah', 'shanahan', 'coconuco', 'zerozero', 'mammalia', 'ogallala', 'sneerers', 'septette', 'reverter', 'reserver', 'dequeued', 'alcavala', 'verriere', 'froufrou', 'daedalea', 'veneerer', 'huffduff', 'salsilla', 'rewarewa', 'deferrer', 'tsessebe', 'fetterer', 'kookeree', 'estheses', 'steepest', 'khuskhus', 'reseiser', 'ingiving', 'maharmah', 'raninian', 'repeller', 'bangbang', 'pepeekeo', 'vetitive', 'steerers', 'barbabas', 'abbesses', 'ayerayer', 'soleless', 'deleaded', 'vivariia', 'sestetto', 'sillibib', 'referred', 'sassetta', 'tullusus', 'swissess', 'peppered', 'leonelle', 'ararauna', 'resetter', 'adinidan', 'caimacam', 'reprefer', 'teammate', 'isleless', 'rereader', 'redeared', 'renderer', 'yeahyeah', 'tinnient', 'meseemed', 'savannas', 'lapulapu', 'yariyari', 'makaraka', 'mannaean', 'fretter', 'oneness', 'lualaba', 'lenaean', 'dimmitt', 'useless', 'bowwows', 'sheeree', 'finific', 'feeless', 'rotator', 'acarnan', 'reagree', 'adalard', 'reerect', 'dadayag', 'dammara', 'acacias', 'tresses', 'amasses', 'caracal', 'zoccolo', 'proport', 'janenna', 'metreme', 'vanatta', 'testata', 'lessens', 'zigging', 'tektite', 'decence', 'volvell', 'shannah', 'pippins', 'moriori', 'urucury', 'baggala', 'dollond', 'willawa', 'coppock', 'verrell', 'rassasy', 'estelle', 'rennane', 'girning', 'possess', 'alleles', 'iacchic', 'derider', 'tattoos', 'baccara', 'potoroo', 'momisms', 'readded', 'sataras', 'seabees', 'terrier', 'unqueen', 'deicide', 'electee', 'talanta', 'illless', 'bassbar', 'tzitzis', 'aspasia', 'deeanne', 'steppes', 'nanning', 'melpell', 'baggara', 'latitia', 'susanna', 'addenda', 'labibia', 'cacalia', 'offflow', 'doddard', 'ostoses', 'kaitaka', 'hellelt', 'markkaa', 'pappain', 'alabama', 'trillil', 'acetate', 'blottto', 'taratah', 'reveres', 'eellike', 'herrera', 'speises', 'tinging', 'redared', 'velella', 'sassoon', 'krieker', 'nighing', 'tmemata', 'reddled', 'suffuse', 'monoion', 'attacco', 'incivic', 'winging', 'gaddang', 'cheerer', 'dyeweed', 'araceae', 'papotto', 'lavalle', 'versers', 'babbitt', 'seisers', 'deepdye', 'babbool', 'corotto', 'geechee', 'greener', 'creeper', 'vedette', 'allissa', 'genette', 'chachas', 'tomtrot', 'hashish', 'eyeseed', 'reverse', 'tittlin', 'carrere', 'peddled', 'fanfani', 'zyzzyva', 'napaeae', 'pipping', 'ekalaka', 'antenna', 'noerror', 'gateage', 'garratt', 'soneson', 'lenette', 'peppers', 'kennell', 'trotter', 'seemers', 'musumee', 'jerreed', 'usurers', 'tererro', 'escence', 'lilibel', 'sissier', 'almaata', 'ingenie', 'twofoot', 'geneses', 'preppie', 'maremme', 'arrayal', 'intinct', 'deduced', 'shahada', 'susette', 'tineine', 'newness', 'attract', 'strette', 'bedewed', 'catasta', 'ferrier', 'titania', 'holloos', 'genesee', 'casabas', 'anidian', 'minimum', 'sorrows', 'presses', 'annetta', 'reddyed', 'epinine', 'calappa', 'deified', 'cantata', 'walsall', 'desexed', 'miramar', 'barbary', 'tzetzes', 'egeberg', 'tarrasa', 'affloof', 'regorge', 'creeler', 'settles', 'roedeer', 'gangman', 'chesses', 'edified', 'sinsion', 'regrede', 'cananea', 'ayapana', 'circini', 'binging', 'perpera', 'sessile', 'repress', 'garrard', 'ellerbe', 'mimming', 'peppery', 'ingoing', 'reekers', 'ninette', 'chanaan', 'nagging', 'gonging', 'khankah', 'tettery', 'genseng', 'trevett', 'totoaba', 'beerier', 'attabal', 'harappa', 'logroll', 'innings', 'weeness', 'brennen', 'tallula', 'latitat', 'dididae', 'layaway', 'auroora', 'renewer', 'mananas', 'individ', 'clechee', 'cuculus', 'armalla', 'rariora', 'eveweed', 'amalgam', 'degreed', 'flowoff', 'minimis', 'oconnor', 'laemmle', 'cassias', 'oloroso', 'wigging', 'dizzied', 'pennine', 'belleek', 'epopees', 'caranna', 'falafel', 'sennett', 'roxboro', 'annissa', 'concoff', 'uttasta', 'samsara', 'murmurs', 'rinning', 'boonton', 'papayan', 'mumjuma', 'tabatha', 'piccini', 'tirribi', 'assails', 'engrege', 'deledda', 'labelle', 'matatua', 'cavalla', 'tartana', 'radidii', 'purpura', 'labella', 'binning', 'trollol', 'terrets', 'wedowee', 'otterer', 'ridered', 'beriber', 'tersest', 'ananias', 'ranatra', 'lorolla', 'nooning', 'mormaor', 'tweeter', 'papilla', 'socorro', 'nibbana', 'chechen', 'oronoko', 'venerer', 'redried', 'boubous', 'taggart', 'diddled', 'inition', 'navarra', 'knockon', 'dierdre', 'cachaza', 'assaria', 'dalilia', 'whereer', 'dridder', 'oronoco', 'alcanna', 'leeanne', 'nauruan', 'triarii', 'rearray', 'redeyed', 'bowwood', 'saqqara', 'cocoons', 'reneger', 'esteems', 'oyesses', 'voodoos', 'dogwood', 'sassaby', 'greggle', 'attalea', 'titties', 'filicic', 'ukulele', 'alannah', 'fierier', 'reddell', 'duelled', 'suttees', 'rabassa', 'doodled', 'askeses', 'setters', 'necesse', 'orderer', 'sardars', 'parrall', 'salaams', 'emmalee', 'tweeded', 'tinting', 'upperer', 'hinging', 'serries', 'lavelle', 'aarrghh', 'acceded', 'merceer', 'titlist', 'pullups', 'killick', 'canalla', 'siesser', 'haggada', 'kannada', 'marmora', 'atalaya', 'dumdums', 'pigging', 'rettore', 'metrete', 'semises', 'apparat', 'lapilli', 'hippish', 'eyebree', 'monnion', 'pedeses', 'tautaug', 'levesel', 'massawa', 'wysiwis', 'baggage', 'bullpup', 'erasers', 'araroba', 'satanta', 'rebribe', 'samalla', 'recheer', 'allpass', 'brebner', 'diffide', 'deadend', 'creeses', 'estates', 'cocoach', 'cocotte', 'passata', 'seekers', 'manzana', 'alleene', 'ferrara', 'rottolo', 'tentlet', 'gantang', 'amninia', 'resever', 'apitpat', 'bananas', 'rearers', 'unended', 'keekers', 'yawways', 'manassa', 'appalls', 'molalla', 'piewipe', 'leveled', 'suburbs', 'bezette', 'ellerey', 'cenaean', 'receded', 'gahanna', 'ordered', 'leewill', 'harahan', 'unsense', 'stratas', 'octette', 'caccias', 'kellegk', 'lususes', 'entebbe', 'reviere', 'attaste', 'malakal', 'reedier', 'tencent', 'pippier', 'shushes', 'tartary', 'anonang', 'valvata', 'tantara', 'lillith', 'mimmood', 'yannina', 'pellaea', 'attaint', 'reelers', 'renerve', 'speeded', 'arriere', 'presser', 'missish', 'ateeter', 'concion', 'brember', 'gregoor', 'lanagan', 'toogood', 'kinking', 'essence', 'pensees', 'annalen', 'needled', 'rococos', 'malagma', 'amasias', 'everett', 'viviene', 'lollops', 'esplees', 'algalia', 'vivaria', 'serener', 'zitzith', 'essonne', 'greeter', 'pipette', 'valhall', 'eveless', 'nyerere', 'jibojib', 'guarrau', 'nocence', 'lantana', 'sextets', 'deleted', 'simooms', 'nemeses', 'treater', 'ressler', 'insists', 'eyeleen', 'anatman', 'tututni', 'raccroc', 'giggish', 'serrell', 'balilla', 'hoodoos', 'sewless', 'dreaded', 'athalla', 'sorosis', 'millime', 'bobotee', 'cetacea', 'peeress', 'cananga', 'hellene', 'seisins', 'sordors', 'mammate', 'medidii', 'monodon', 'ilissus', 'majagga', 'mammula', 'leerier', 'ninnies', 'atactic', 'haganah', 'macadam', 'rhabarb', 'armaria', 'museums', 'janapan', 'teethed', 'helsell', 'alaskas', 'enqueue', 'noncock', 'killkid', 'berberi', 'enfeoff', 'pompoon', 'mestees', 'flessel', 'leggett', 'vivific', 'sharras', 'streets', 'bebless', 'nonagon', 'bulbule', 'ecuelle', 'camacan', 'hubbubs', 'teether', 'testers', 'samaras', 'reoffer', 'rippier', 'guesses', 'gaiassa', 'hurrbur', 'isidoid', 'mammary', 'cabbala', 'avatara', 'tuatara', 'aggadah', 'perrier', 'araneae', 'peperek', 'berbery', 'osseous', 'furrure', 'lackall', 'emended', 'fresser', 'iapigia', 'divided', 'meddled', 'dwelled', 'woodcoc', 'vermeer', 'horrors', 'phillip', 'jenette', 'garrafa', 'pilapil', 'boombox', 'peddada', 'purpure', 'gasbags', 'noniron', 'cuculle', 'maremma', 'tinning', 'yamamai', 'lynndyl', 'tussurs', 'galeage', 'barrada', 'zananas', 'annotto', 'abasias', 'dresses', 'levelly', 'mampara', 'malella', 'pushups', 'teethes', 'sawarra', 'ernesse', 'shamash', 'beebutt', 'decoded', 'severer', 'topboot', 'statist', 'senones', 'cimicid', 'dinning', 'asramas', 'ergener', 'emmerie', 'taffeta', 'irrisor', 'cacajao', 'gittite', 'satanas', 'cocullo', 'catcall', 'bibbing', 'sessler', 'sasakwa', 'rasalas', 'treitre', 'asialia', 'tarttan', 'assapan', 'idrisid', 'exegete', 'retrier', 'dvandva', 'dennett', 'annatto', 'sesames', 'labanna', 'secedes', 'arricci', 'sillies', 'valvula', 'accomac', 'lappula', 'tarairi', 'mamilla', 'kassapa', 'pitapat', 'gilling', 'tutulus', 'mimamsa', 'pontoon', 'zannini', 'titoist', 'ghazzah', 'cissiee', 'halalas', 'detente', 'hoghood', 'arrases', 'rettery', 'barraza', 'duetted', 'reorder', 'elloree', 'success', 'retests', 'tappall', 'etrenne', 'pellile', 'ukelele', 'beeball', 'woodrow', 'kachcha', 'dittied', 'yevette', 'sleeves', 'fennell', 'nonnant', 'casavas', 'arrayer', 'moonmen', 'phospho', 'tiptilt', 'ricinic', 'fregger', 'digging', 'savssat', 'arrayan', 'cooboos', 'halacha', 'amalaka', 'gipping', 'kassala', 'ninepin', 'boottop', 'cacilia', 'insense', 'setness', 'dietted', 'sixosix', 'offeree', 'wallaba', 'despeed', 'palatal', 'redress', 'stictis', 'sassies', 'tarrant', 'woyaway', 'sansara', 'anounou', 'dagassa', 'dolldom', 'abitibi', 'officio', 'shabash', 'refered', 'inandin', 'highish', 'veepees', 'creeded', 'jinjili', 'lessest', 'peppertree', 'evennesses', 'vivarvaria', 'fiftyfifty', 'alangalang', 'fuddyduddy', 'doortodoor', 'sangasanga', 'jajawijaja', 'lillypilly', 'recercelee', 'hoddydoddy', 'goodygoody', 'senescence', 'sweetsweet', 'reremember', 'willywilly', 'buddybuddy', 'couscousou', 'kerrikerri', 'nevernever', 'susurruses', 'riessersee', 'hasheeshes', 'nullanulla', 'mezzomezzo', 'isoosmosis', 'deadheaded', 'cachecache', 'actaeaceae', 'reassesses', 'welldeeded', 'biddybiddy', 'senseless', 'tenseness', 'attentate', 'shellless', 'woewedded', 'ricininic', 'indianian', 'sextettes', 'recherche', 'kaikawaka', 'caracaras', 'nonmormon', 'larararia', 'seismisms', 'arracacha', 'coccaceae', 'aceraceae', 'palilalia', 'naassenes', 'denseness', 'eisegesis', 'sissiness', 'sweesweet', 'speelless', 'redresser', 'preferrer', 'cerretree', 'succusses', 'glenellen', 'staatsrat', 'susurrous', 'referrers', 'hennahane', 'tsutsutsi', 'regretter', 'steelless', 'mimesises', 'rattattoo', 'diddledee', 'awikiwiki', 'lavalavas', 'peeseweep', 'disseisee', 'nonsenses', 'antennate', 'inconcinn', 'okupukupu', 'lilibelle', 'represses', 'tantarara', 'chechehet', 'trinitrin', 'ittybitty', 'arrearage', 'arecaceae', 'tathagata', 'illwillie', 'goodygood', 'sassanian', 'kinnikinick', 'tangantangan', 'kinnikinnick', 'killeekillee', 'senselessness']\n"
     ]
    }
   ],
   "source": [
    "# Example of accessing words from category 1\n",
    "category_1_words = classified_words[4]\n",
    "print(\"Words in Category 1:\", category_1_words)"
   ]
  },
  {
   "cell_type": "code",
   "execution_count": 8,
   "metadata": {},
   "outputs": [
    {
     "name": "stdout",
     "output_type": "stream",
     "text": [
      "\n",
      "Catagory summaries:\n",
      "Category 1: 41 words\n",
      "Category 2: 615 words\n",
      "Category 3: 3922 words\n",
      "Category 4: 10957 words\n",
      "Category 5: 23662 words\n",
      "Category 6: 36843 words\n",
      "Category 7: 43960 words\n",
      "Category 8: 41767 words\n",
      "Category 9: 31969 words\n",
      "Category 10: 19691 words\n",
      "Category 11: 9366 words\n",
      "Category 12: 3399 words\n",
      "Category 13: 875 words\n",
      "Category 14: 199 words\n",
      "Category 15: 30 words\n",
      "Category 16: 4 words\n"
     ]
    }
   ],
   "source": [
    "# Summarize the classes\n",
    "summaries = summarize_categories(classified_words)\n",
    "print(\"\\nCatagory summaries:\")\n",
    "for summary in summaries:\n",
    "    print(summary)"
   ]
  },
  {
   "cell_type": "code",
   "execution_count": 14,
   "metadata": {},
   "outputs": [
    {
     "name": "stdout",
     "output_type": "stream",
     "text": [
      "Selected words from each category:\n",
      "['kaw', 'lala', 'ppp', 'howler', 'aludra', 'astays', 'paganists', 'buttering', 'questionnaire', 'shovelman', 'subfunctional', 'spectrofluorometric', 'neuropsychical', 'lymhpangiophlebitis', 'pseudophilanthropically', 'pseudolamellibranchiate']\n"
     ]
    }
   ],
   "source": [
    "def select_one_word_per_category(classified_words):\n",
    "    selected_words = []\n",
    "    for category, words in classified_words.items():\n",
    "        # Ensure the category has words\n",
    "        if isinstance(words, list) and len(words) > 0:\n",
    "            selected_word = random.choice(words)\n",
    "            selected_words.append(selected_word)\n",
    "        else:\n",
    "            print(f\"Category {category} has no words.\")\n",
    "    return selected_words\n",
    "\n",
    "# Assuming 'classified_words' is a dictionary of lists, where each value list contains words from one category\n",
    "selected_words = select_one_word_per_category(classified_words)\n",
    "print(\"Selected words from each category:\")\n",
    "print(selected_words)"
   ]
  },
  {
   "cell_type": "code",
   "execution_count": 15,
   "metadata": {},
   "outputs": [
    {
     "name": "stdout",
     "output_type": "stream",
     "text": [
      "Selected words from each category:\n",
      "['mommy', 'obb', 'jj', 'wisped', 'beetiest', 'pokomo', 'quisutsch', 'dramaticism', 'cropseyville', 'nervosity', 'slavoteutonic', 'adumbratively', 'indemonstrability', 'septocylindrium', 'undiscoverability', 'superacknowledgment']\n"
     ]
    }
   ],
   "source": [
    "# Assuming 'classified_words' is a dictionary of lists, where each value list contains words from one category\n",
    "selected_words = select_one_word_per_category(classified_words)\n",
    "print(\"Selected words from each category:\")\n",
    "print(selected_words)"
   ]
  },
  {
   "cell_type": "code",
   "execution_count": 19,
   "metadata": {},
   "outputs": [
    {
     "name": "stdout",
     "output_type": "stream",
     "text": [
      "Selected words from each category:\n",
      "['ipil', 'nunu', 'f', 'wristier', 'resmell', 'lorolla', 'ichthyician', 'sherardized', 'rumenocentesis', 'phallodynia', 'reflexologically', 'complaintiveness', 'nondiscriminatingly', 'overdogmaticalness', 'predisadvantageously', 'superacknowledgment']\n"
     ]
    }
   ],
   "source": [
    "# Assuming 'classified_words' is a dictionary of lists, where each value list contains words from one category\n",
    "selected_words = select_one_word_per_category(classified_words)\n",
    "print(\"Selected words from each category:\")\n",
    "print(selected_words)"
   ]
  },
  {
   "cell_type": "code",
   "execution_count": 9,
   "metadata": {},
   "outputs": [
    {
     "name": "stdout",
     "output_type": "stream",
     "text": [
      "Selected word from Category 16: pseudolamellibranchiate\n"
     ]
    }
   ],
   "source": [
    "def get_word_from_category(classification, unique_count):\n",
    "    \"\"\"\n",
    "    Retrieve a word from a specified category based on unique letter count.\n",
    "\n",
    "    Args:\n",
    "        classification (dict): Dictionary with unique letter counts as keys and lists of words as values.\n",
    "        unique_count (int): The unique letter count category from which to pick a word.\n",
    "\n",
    "    Returns:\n",
    "        str: A word from the specified category, or None if the category is empty.\n",
    "    \"\"\"\n",
    "    words = classification.get(unique_count, [])\n",
    "    if words:\n",
    "        # You can return a random word or just the first one\n",
    "        return random.choice(words)  # Use random.choice to select a word randomly\n",
    "    return None\n",
    "\n",
    "# Using the function to get a word from category 16\n",
    "category_16_word = get_word_from_category(classified_words, 16)\n",
    "if category_16_word:\n",
    "    print(f\"Selected word from Category 16: {category_16_word}\")\n",
    "else:\n",
    "    print(\"No words found in Category 16.\")"
   ]
  },
  {
   "cell_type": "code",
   "execution_count": 10,
   "metadata": {},
   "outputs": [
    {
     "ename": "NameError",
     "evalue": "name 'STOP' is not defined",
     "output_type": "error",
     "traceback": [
      "\u001b[0;31m---------------------------------------------------------------------------\u001b[0m",
      "\u001b[0;31mNameError\u001b[0m                                 Traceback (most recent call last)",
      "Cell \u001b[0;32mIn[10], line 1\u001b[0m\n\u001b[0;32m----> 1\u001b[0m \u001b[43mSTOP\u001b[49m\n",
      "\u001b[0;31mNameError\u001b[0m: name 'STOP' is not defined"
     ]
    }
   ],
   "source": [
    "STOP"
   ]
  },
  {
   "cell_type": "code",
   "execution_count": null,
   "metadata": {},
   "outputs": [],
   "source": [
    "from collections import defaultdict\n",
    "\n",
    "def count_words_without_vowels(corpus):\n",
    "    # Define vowels for easy checking\n",
    "    vowels = set('aeiou')\n",
    "    # Dictionary to hold the counts of words without vowels, classified by word length\n",
    "    no_vowel_counts = defaultdict(int)\n",
    "\n",
    "    # Process each word in the corpus\n",
    "    for word in corpus:\n",
    "        length = len(word)\n",
    "        # Convert word to lower case and check for vowels\n",
    "        if not any(char in vowels for char in word.lower()):\n",
    "            no_vowel_counts[length] += 1\n",
    "\n",
    "    # Optionally, return the counts as a sorted list by word length\n",
    "    return dict(sorted(no_vowel_counts.items()))\n",
    "\n",
    "# Example usage with a sample corpus\n",
    "# corpus = [\"bcdfg\", \"apple\", \"sky\", \"rhythm\", \"crypts\", \"fly\", \"glyph\", \"mnths\", \"psst\", \"trysts\"]\n",
    "counts = count_words_without_vowels(corpus)\n",
    "\n",
    "for length, count in counts.items():\n",
    "    print(f\"Word Length {length}: {count} word(s) without vowels\")"
   ]
  },
  {
   "cell_type": "code",
   "execution_count": null,
   "metadata": {},
   "outputs": [],
   "source": [
    "# from data_generation.data_generation import collect_state_labels\n",
    "\n",
    "# from src.utils import calculate_frequencies, get_character_probability\n",
    "\n",
    "# prob_char_by_word_len, total_word_count_by_length = calculate_frequencies(corpus)"
   ]
  },
  {
   "cell_type": "code",
   "execution_count": null,
   "metadata": {},
   "outputs": [],
   "source": [
    "# prob_char_by_word_len.keys()"
   ]
  },
  {
   "cell_type": "code",
   "execution_count": null,
   "metadata": {},
   "outputs": [],
   "source": [
    "# # Example usage\n",
    "# categories = categorize_words_by_length(corpus)\n",
    "# # Print the categorized dictionary\n",
    "# for length, words in categories.items():\n",
    "#     print(f\"Words of length {length}: {words}\")"
   ]
  },
  {
   "cell_type": "code",
   "execution_count": null,
   "metadata": {},
   "outputs": [],
   "source": [
    "# word = 'pashm'\n",
    "\n",
    "# from data_generation.data_generation import selective_mask_state_generation\n",
    "\n",
    "# # # # Example usage with the word \"pseudolamellibranchiate\"\n",
    "# # word = \"pseudolamellibranchiate\" \n",
    "# # word = \"eunoia\"\n",
    "# # word = 'zyzomys' # categories['category_16'][0]\n",
    "# print(word)\n",
    "# masked_states = selective_mask_state_generation(word, k_factor=1, \\\n",
    "#                     letter_frequency=get_character_probability(corpus, len(word)))\n",
    "\n",
    "# # Print the generated masked states\n",
    "# for mask_id, masked_state in masked_states.items():\n",
    "#     print(f\"{mask_id}: {masked_state}\")"
   ]
  },
  {
   "cell_type": "code",
   "execution_count": null,
   "metadata": {},
   "outputs": [],
   "source": [
    "# ujjain \n",
    "# mask_0: ______\n",
    "# mask_1: ___a__\n",
    "# mask_2: ___ai_\n",
    "# mask_3: ___ain\n",
    "# mask_4: u__ain"
   ]
  },
  {
   "cell_type": "code",
   "execution_count": null,
   "metadata": {},
   "outputs": [],
   "source": [
    "# from data_generation.data_generation import selective_mask_state_generation\n",
    "\n",
    "# # # # Example usage with the word \"pseudolamellibranchiate\"\n",
    "# # word = \"pseudolamellibranchiate\"\n",
    "# # word = \"ujjain\"\n",
    "# # word = categories['category_16'][0]\n",
    "# # print(word)\n",
    "# word = 'zyg'\n",
    "# masked_states = selective_mask_state_generation(word, k_factor=1, \\\n",
    "#                     letter_frequency=get_character_probability(corpus, len(word)))\n",
    "\n",
    "# # Print the generated masked states\n",
    "# for mask_id, masked_state in masked_states.items():\n",
    "#     print(f\"{mask_id}: {masked_state}\")"
   ]
  },
  {
   "cell_type": "code",
   "execution_count": null,
   "metadata": {},
   "outputs": [],
   "source": [
    "from src.data_generation.data_generation import calculate_dynamic_label\n",
    "word = 'pashm'\n",
    "masked_word = '_' * len(word)\n",
    "labels = calculate_dynamic_label(word, masked_word)\n",
    "labels"
   ]
  },
  {
   "cell_type": "code",
   "execution_count": null,
   "metadata": {},
   "outputs": [],
   "source": [
    "from src.model.strategy import HangmanFreqSolver\n",
    "\n",
    "solver = HangmanFreqSolver(corpus=corpus)\n",
    "\n",
    "labels = np.array([1, 1, 1, 1, 1, 1, 1, 1, 1, 0, 1, 1, 1, 1, 1, 1, 1, 1, 1, 1, 1, 1, 1, 1, 1, 1])\n",
    "# print(labels)\n",
    "masked_word = '___'\n",
    "gusssed_letters = ['a', 's', 'e', 'o', 'c', 'i', 't', 'd', 'm']\n",
    "index = solver.next_guess(masked_word=masked_word, \\\n",
    "                        likelihood_vector=labels, \\\n",
    "                        guessed_letters=gusssed_letters, \\\n",
    "                        tries_remains=None)\n",
    "\n",
    "# Direct conversion from index to character using chr()\n",
    "character = chr(97 + index)  # 97 is the ASCII value for 'a'\n",
    "print(character)  # Outputs: f"
   ]
  },
  {
   "cell_type": "code",
   "execution_count": null,
   "metadata": {},
   "outputs": [],
   "source": [
    "from src.model.simulation import play_a_game_with_a_word, \\\n",
    "    simulate_games_for_word_list # testing function\n",
    "from src.datamodule.transforms import ProcessWordTransform\n",
    "from src.data_generation.data_generation import calculate_dynamic_label, \\\n",
    "    simulated_guess_function, generate_a_game_with_a_word\n",
    "from src.model.strategy import HangmanFreqSolver # strategy"
   ]
  },
  {
   "cell_type": "code",
   "execution_count": null,
   "metadata": {},
   "outputs": [],
   "source": [
    "# real_word = 'mississippi' # out of corpus\n",
    "# real_word = 'jazz' # out of corpus\n",
    "# real_word = 'zyg' # from corpus\n",
    "real_word = 'apple'\n",
    "win, total_attempts, game_progress=generate_a_game_with_a_word(word=real_word, \\\n",
    "                    guess_function=simulated_guess_function, \\\n",
    "                    model=None, solver=solver, transform=None, sanity_test=True)\n",
    "game_progress"
   ]
  },
  {
   "cell_type": "code",
   "execution_count": null,
   "metadata": {},
   "outputs": [],
   "source": [
    "# # Example usage\n",
    "# solver = HangmanFreqSolver(corpus)\n",
    "# corpus_path_ = '/media/sayem/510B93E12554BBD1/Hangman/data/20k.txt'\n",
    "# word_list = read_word_list(corpus_path_, num_samples=1_000)\n",
    "# final_results = simulate_games_for_word_list(word_list, simulated_guess_function, \\\n",
    "#                     None, solver, None, sanity_test=True)\n",
    "\n",
    "# # Print overall statistics\n",
    "# overall_stats = final_results['overall']\n",
    "# print(\"\\nOverall Statistics:\")\n",
    "# print(f\"Total Games: {overall_stats['total_games']}, Wins: {overall_stats['wins']}, Losses: {overall_stats['losses']}\")\n",
    "# print(f\"Win Rate: {overall_stats['win_rate']:.2f}, Average Attempts: {overall_stats['average_attempts']:.2f}\")"
   ]
  },
  {
   "cell_type": "code",
   "execution_count": null,
   "metadata": {},
   "outputs": [],
   "source": [
    "# # Example usage\n",
    "# from src.data_generation.data_generation import generate_games_for_word_list\n",
    "\n",
    "# solver = HangmanFreqSolver(corpus)\n",
    "# corpus_path_ = '/media/sayem/510B93E12554BBD1/Hangman/data/20k.txt'\n",
    "# word_list = read_word_list(corpus_path_, num_samples=1_000)\n",
    "# final_results = generate_games_for_word_list(word_list, simulated_guess_function, \\\n",
    "#                     None, solver, None, sanity_test=True)"
   ]
  },
  {
   "cell_type": "code",
   "execution_count": null,
   "metadata": {},
   "outputs": [],
   "source": [
    "# if __name__ == \"__main__\":\n",
    "#     parser = argparse.ArgumentParser(description='Generate Hangman game data.')\n",
    "#     parser.add_argument('--num_words', type=int, \\\n",
    "#                         default=10_000, help='Number of words to process.')\n",
    "#     parser.add_argument('--data_path', type=str, \\\n",
    "#                         default='/media/sayem/510B93E12554BBD1/Hangman/data/words_250000_train.txt', \\\n",
    "#                         help='Path to the data file.')\n",
    "#     parser.add_argument('--output_dir', type=str, \\\n",
    "#                         default='/media/sayem/510B93E12554BBD1/dataset/', help='Directory to save output Parquet files.')\n",
    "#     parser.add_argument('--test_mode', type=bool, \\\n",
    "#                         default=False, help='Run in test mode for debugging purposes.')\n",
    "\n",
    "#     args = parser.parse_args()\n",
    "#     main(args)"
   ]
  }
 ],
 "metadata": {
  "kernelspec": {
   "display_name": "deepHSI",
   "language": "python",
   "name": "python3"
  },
  "language_info": {
   "codemirror_mode": {
    "name": "ipython",
    "version": 3
   },
   "file_extension": ".py",
   "mimetype": "text/x-python",
   "name": "python",
   "nbconvert_exporter": "python",
   "pygments_lexer": "ipython3",
   "version": "3.12.3"
  }
 },
 "nbformat": 4,
 "nbformat_minor": 2
}
