{
 "cells": [
  {
   "cell_type": "code",
   "execution_count": 2,
   "metadata": {},
   "outputs": [
    {
     "name": "stdout",
     "output_type": "stream",
     "text": [
      "Project Root Added to sys.path: /media/sayem/510B93E12554BBD1\n"
     ]
    }
   ],
   "source": [
    "import sys\n",
    "import os\n",
    "import random\n",
    "\n",
    "# Set the seed for Python's random module\n",
    "random.seed(42)  # You can choose any number; 42 is just an example\n",
    "\n",
    "# Assuming your notebook is directly under some subdirectory like 'notebooks' inside the 'Hangman/src' directory\n",
    "# You need to navigate two levels up to reach the root that includes 'src'\n",
    "project_root = os.path.dirname(os.path.dirname(os.getcwd()))  # Go up two levels\n",
    "sys.path.append(project_root)\n",
    "\n",
    "print(\"Project Root Added to sys.path:\", project_root)\n",
    "\n",
    "import os\n",
    "os.chdir('/media/sayem/510B93E12554BBD1/Hangman/src/')"
   ]
  },
  {
   "cell_type": "code",
   "execution_count": null,
   "metadata": {},
   "outputs": [],
   "source": []
  }
 ],
 "metadata": {
  "kernelspec": {
   "display_name": "work",
   "language": "python",
   "name": "python3"
  },
  "language_info": {
   "codemirror_mode": {
    "name": "ipython",
    "version": 3
   },
   "file_extension": ".py",
   "mimetype": "text/x-python",
   "name": "python",
   "nbconvert_exporter": "python",
   "pygments_lexer": "ipython3",
   "version": "3.12.3"
  }
 },
 "nbformat": 4,
 "nbformat_minor": 2
}
